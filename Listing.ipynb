{
 "cells": [
  {
   "cell_type": "code",
   "execution_count": 115,
   "metadata": {},
   "outputs": [],
   "source": [
    "# pip install pymongo"
   ]
  },
  {
   "cell_type": "code",
   "execution_count": 116,
   "metadata": {},
   "outputs": [],
   "source": [
    "import requests\n",
    "from pymongo import MongoClient\n",
    "import json"
   ]
  },
  {
   "cell_type": "code",
   "execution_count": 117,
   "metadata": {},
   "outputs": [],
   "source": [
    "client = MongoClient('mongodb://localhost:27017/')\n",
    "database = client['IndeedJobListing']\n",
    "collection = database['Hello']"
   ]
  },
  {
   "cell_type": "code",
   "execution_count": 111,
   "metadata": {},
   "outputs": [
    {
     "name": "stdout",
     "output_type": "stream",
     "text": [
      "{'api_key': '659b01009794a261d9eaee40', 'url': 'https://in.indeed.com/jobs?q=Python+developer&l=&from=searchOnHP&vjk=71d709239fecfc67'}\n"
     ]
    }
   ],
   "source": [
    "job_search_keyword = ['Python+developer']\n",
    "api_url = \"https://api.scrapingdog.com/indeed\"\n",
    "api_key = \"659b01009794a261d9eaee40\"\n",
    "pagination_url = \"https://in.indeed.com/jobs?q={}&l=&from=searchOnHP&vjk=71d709239fecfc67\"\n",
    "job_search_url = pagination_url.format(job_search_keyword[0], 0)\n",
    "\n",
    "# Set up the parameters\n",
    "params = {\"api_key\": api_key, \"url\": job_search_url}\n",
    "print(params)\n",
    "# Make the HTTP GET request\n",
    "response = requests.get(api_url, params=params)\n",
    "\n"
   ]
  },
  {
   "cell_type": "code",
   "execution_count": 112,
   "metadata": {},
   "outputs": [
    {
     "name": "stdout",
     "output_type": "stream",
     "text": [
      "[{'jobTitle': 'Backend Python Developer - WFH', 'jobLink': 'https://www.indeed.com/rc/clk?jk=5a61fdba828e98d8&bb=KcK9d95sIneKt9Eh860eYHa0xX8wVZ6AXi-eAIGSzGaFL-jasnDR76xqHzHYjxtU&xkcb=SoDY67M3G0kXi52YGh0LbzkdCdPP&fccid=0e2f08d304beb5b1&cmp=Uplers&ti=Back+End+Developer&vjs=3', 'companyName': 'Uplers', 'companyLocation': 'Remote', 'jobDescription': ' \\n Salary:* USD 2,470/ month (Based on experience).\\n Shift: US Full Shift (08:00 PM to 05:00 AM IST).\\n Contract Duration: Full-time, 12 months.\\n', 'Salary': '', 'jobMetaData': [], 'jobPosting': 'Hiring ongoing'}, {'jobTitle': 'Python Developer', 'jobLink': 'https://www.indeed.com/rc/clk?jk=922a01bc2221f840&bb=TrWZzlcqs1M13wAg-hMdY4pWVkVtyjLJZDiWDAPsLVL0pgRtYsyrJdYROekY1n8O&xkcb=SoB_67M3G0kXi4WYGh0JbzkdCdPP&fccid=146443e77d8c0778&vjs=3', 'companyName': 'Virtusa', 'companyLocation': 'Hybrid remote in Bengaluru, Karnataka', 'jobDescription': ' \\n Python Developer responsibilities include writing and testing code, debugging programs and integrating applications with third-party web services.\\n', 'Salary': '', 'jobMetaData': [], 'jobPosting': 'Just posted'}, {'jobTitle': 'Developer - FullStack (Python)', 'jobLink': 'https://www.indeed.com/rc/clk?jk=a36511373f0ebddb&bb=wxRevsY0oTSAQJuazMigGp5zZMcRG7WyOueHEhghCdQB2bUpgjiLOk_gBtOmrlv5&xkcb=SoA667M3G0kXi42YGh0JbzkdCdPP&fccid=2d0740e02e80cf22&vjs=3', 'companyName': 'Airbus', 'companyLocation': 'Bengaluru, Karnataka', 'jobDescription': ' \\n Mentor a group of developers and bring them up to speed quickly.\\n Proven track record as software developer acting across the entire development lifecycle.\\n', 'Salary': '', 'jobMetaData': [], 'jobPosting': 'Posted 4 days ago'}, {'jobTitle': 'Junior Python Developer', 'jobLink': 'https://www.indeed.com/rc/clk?jk=298089e9a99c56f2&bb=cPQTnDGRrA77e_IBOFzuAS4UTvCaxUzmA4CI_4-7yjFboqoRh-paAJtLYhbs0G4r&xkcb=SoBj67M3G0kXi7WYGh0JbzkdCdPP&fccid=91966216d300cee2&vjs=3', 'companyName': 'Wisdomleaf Technologies (P) Limited', 'companyLocation': 'India', 'jobDescription': ' \\n : Experience : 1+ year(s) of work experience We are looking for a developer to maintain and further develop our Cloud-based SAAS Web Applications.\\n', 'Salary': '', 'jobMetaData': [], 'jobPosting': 'Posted 30+ days ago'}, {'jobTitle': 'Frontend Developer - WFH', 'jobLink': 'https://www.indeed.com/rc/clk?jk=7bd9d57876221780&bb=70EywuVwrgvYiAdgp3OPL6xuTcjT6oE2pMeJM2jL7wbqVr_NKL5YiwEgl8Scpc6j&xkcb=SoAc67M3G0kXi72YGh0PbzkdCdPP&fccid=0e2f08d304beb5b1&cmp=Uplers&ti=Front+End+Developer&vjs=3', 'companyName': 'Uplers', 'companyLocation': 'Remote', 'jobDescription': ' \\n Work closely with project managers and back-end developers to implement versatile front-end solutions to web development issues.\\n', 'Salary': '', 'jobMetaData': [], 'jobPosting': 'Hiring ongoing'}, {'jobTitle': 'Python Senior Developer', 'jobLink': 'https://www.indeed.com/rc/clk?jk=20853e13ce65a5b7&bb=I8kerQPQsnHxEM976yBGUHov1K9uMmSAF-j37aeJz_Pu3raCjgaZnPDa9Cy9pB5b&xkcb=SoCB67M3G0kXi6WYGh0LbzkdCdPP&fccid=c67533a523c83a4c&vjs=3', 'companyName': 'Infosys', 'companyLocation': 'Bengaluru, Karnataka', 'jobDescription': ' \\n A day in the life of an Infoscion • As part of the Infosys delivery team, your primary role would be to ensure effective Design, Development, Validation and…\\n', 'Salary': '', 'jobMetaData': [], 'jobPosting': 'Posted 5 days ago'}, {'jobTitle': 'Python Developer', 'jobLink': 'https://www.indeed.com/rc/clk?jk=1b21906f7acbe81a&bb=fyKZemqiAJidDTeVLB0rCeKVBWj2NzY39wdSdOF9XBSA3XYEG_MP0d3ohCubAojy&xkcb=SoBw67M3G0kXi62YGh0KbzkdCdPP&fccid=4d1ce2b52f6f8920&vjs=3', 'companyName': 'Marktine Technology Solutions', 'companyLocation': 'Bengaluru, Karnataka', 'jobDescription': ' \\n Conduct code reviews, provide feedback, and mentor junior developers on algorithmic best practices.\\n As a Python Developer with a strong grasp of algorithms, you…\\n', 'Salary': '', 'jobMetaData': [], 'jobPosting': 'Posted 11 days ago'}, {'jobTitle': 'Contract Python Developer - - Remote - Indian Timezone', 'jobLink': 'https://www.indeed.com/rc/clk?jk=b49ed925d7d9ce6d&bb=fyKZemqiAJixk5BgCqVFSRfNqmMEQVZwAeFW8ddcr98uCu9aSEUq-73Vuh2G3Crv&xkcb=SoBZ67M3G0kXi62YGh0IbzkdCdPP&fccid=86b865d91a167483&vjs=3', 'companyName': 'Flipkoins', 'companyLocation': 'Remote', 'jobDescription': ' \\n Job Type - Short term Contractual, Full-Time.\\n Duration - Minimum 6 months, might extend based on the performance.\\n Python- Django, REST APIs, FLASK, HTML, CSS.\\n', 'Salary': '', 'jobMetaData': [], 'jobPosting': 'Posted 30+ days ago'}, {'jobTitle': 'Python Developer , Associate', 'jobLink': 'https://www.indeed.com/rc/clk?jk=949d3f417668da20&bb=fyKZemqiAJhyNlHsnHHreZMqBOumoRud5HZe8cl7W9iMGFqO6rKAWohW-vtdR3Ud&xkcb=SoBK67M3G0kXi62YGh0MbzkdCdPP&fccid=58c732f14833248a&vjs=3', 'companyName': 'BlackRock', 'companyLocation': 'Hybrid remote in Gurgaon, Gurugram, Haryana', 'jobDescription': ' \\n Core RM is part of the Risk & Quantitative Analysis (RQA) group, which provides independent oversight of BlackRock’s fiduciary and enterprise risks globally.\\n', 'Salary': '', 'jobMetaData': [], 'jobPosting': 'Posted 18 days ago'}, {'jobTitle': 'Python Developer', 'jobLink': 'https://www.indeed.com/rc/clk?jk=0c27e86b02d5d4f4&bb=AyvS1jElpXmaLidkUzEBrIPPgSNf8FDskQna6Mbr8DbgjblMa6q1e9Q6dnnA3msr&xkcb=SoA267M3G0kXilWYGh0KbzkdCdPP&fccid=dcf001466b3d1014&vjs=3', 'companyName': 'Splice Global Services', 'companyLocation': 'Remote', 'jobDescription': ' \\n ✅ Design and develop software for medium and large-scale enterprise services.\\n ✅ Translate functional requirements into conceptual and detailed designs.\\n', 'Salary': '', 'jobMetaData': [], 'jobPosting': 'Posted 30+ days ago'}, {'jobTitle': 'Sr Python Developer', 'jobLink': 'https://www.indeed.com/rc/clk?jk=ac7d8971c26e937c&bb=AyvS1jElpXmDjXccPiC8EoCGlHWyP88MSHicFJVYVww9av2sWl0cV30JvtsMmHVq&xkcb=SoAf67M3G0kXilWYGh0IbzkdCdPP&fccid=146443e77d8c0778&vjs=3', 'companyName': 'Virtusa', 'companyLocation': 'Hybrid remote in Bengaluru, Karnataka', 'jobDescription': ' \\n Collaborate with front-end developers to integrate user-facing elements and ensure seamless functionality.\\n Design and implement server-side logic using Python,…\\n', 'Salary': '', 'jobMetaData': [], 'jobPosting': 'Posted 18 days ago'}, {'jobTitle': 'Python Developer', 'jobLink': 'https://www.indeed.com/rc/clk?jk=ea7467b669f43ea9&bb=oGDpdOGk5FMxn6GHYvDeyXokQFLnoAchrScz-5jG7frm_unycfUBNV7lSO4OnZC6&xkcb=SoBz67M3G0kXil2YGh0KbzkdCdPP&fccid=2fb6f1c2aa9c55a3&vjs=3', 'companyName': 'Guitaa Technology', 'companyLocation': 'Jaipur, Rajasthan', 'jobDescription': ' \\n Developing back-end components to improve responsiveness and overall performance.\\n Integrating user-facing elements into applications.\\n', 'Salary': '', 'jobMetaData': [], 'jobPosting': 'Posted 30+ days ago'}, {'jobTitle': 'Python Developer', 'jobLink': 'https://www.indeed.com/rc/clk?jk=a906cf82e618abe1&bb=oGDpdOGk5FM730fCAoWfIiUOqbvKO211LGTG2cj5vFSLH35vioLzWQmnQKkyE_c7&xkcb=SoDU67M3G0kXil2YGh0PbzkdCdPP&fccid=96fdfffc5ab334e4&vjs=3', 'companyName': 'nFolks Data Solutions', 'companyLocation': 'Remote in India', 'jobDescription': ' \\n 5+ years of rigorous coding experience in python.\\n 2 years of experience on any cloud environments (AWS, GCP or Azure).\\n B-tech or Masters in Computer Science.\\n', 'Salary': '', 'jobMetaData': [], 'jobPosting': 'Posted 30+ days ago'}, {'jobTitle': 'Python Developer', 'jobLink': 'https://www.indeed.com/rc/clk?jk=34f6d55bbbdbecad&bb=oGDpdOGk5FODxdDEMSiyvEZBBDSF2Wm2SsEwnraEPgBr8ZcO_xC32FqoWlCLM-ak&xkcb=SoD967M3G0kXil2YGh0NbzkdCdPP&fccid=d5b857be93ae2f20&vjs=3', 'companyName': 'AgilizTech Software Services', 'companyLocation': 'Bengaluru, Karnataka', 'jobDescription': ' \\n Cloud Product Development and System Integration using Python and other open source technologies.\\n Participate in R&D activities led by architects.\\n', 'Salary': '', 'jobMetaData': [], 'jobPosting': 'Posted 30+ days ago'}, {'jobTitle': 'Junior Python Developer', 'jobLink': 'https://www.indeed.com/rc/clk?jk=cdbfeb58c2f14aa4&bb=aXER_W0Sp5r72WQ_F_OdpwhlznZ16hHm0re8wkXeO6yNscV7z9Zz5TmJ_mmgwGxw&xkcb=SoBJ67M3G0kXikWYGh0LbzkdCdPP&fccid=7567a9191d24f00b&vjs=3', 'companyName': 'Ariqt International', 'companyLocation': 'India', 'jobDescription': ' \\n Strong knowledge of core python.\\n Candidate should have 2+years of experience in python.\\n Looking for a junior Python Developer to join our engineering team and…\\n', 'Salary': '', 'jobMetaData': [], 'jobPosting': 'Posted 30+ days ago'}, {'totalJobs': '9,358 jobs', 'jobTitle': 'Python developer jobs'}]\n"
     ]
    }
   ],
   "source": [
    "# Check if the request was successful (status code 200)\n",
    "if response.status_code == 200:\n",
    "    # Parse the JSON content\n",
    "    json_response = response.json()\n",
    "    print(json_response)\n",
    "else:\n",
    "    print(f\"Error: {response.status_code}\")\n",
    "    print(response.text)\n"
   ]
  },
  {
   "cell_type": "code",
   "execution_count": null,
   "metadata": {},
   "outputs": [],
   "source": [
    " "
   ]
  },
  {
   "cell_type": "code",
   "execution_count": 98,
   "metadata": {},
   "outputs": [],
   "source": [
    "# # Install if you have never used these: unblock the lines below to install if needed\n",
    "# !pip install webdriver-manager\n",
    "# !pip3 install lxml\n",
    "# !pip3 install selenium\n",
    "# !pip3 install webdriver_manager\n",
    "# !pip install --upgrade pip\n",
    "# !pip install -U selenium\n",
    "# !pip install msedge-selenium-tools\n"
   ]
  },
  {
   "cell_type": "code",
   "execution_count": 99,
   "metadata": {},
   "outputs": [],
   "source": [
    "# # --------- import necessary modules -------\n",
    "\n",
    "# # For webscraping\n",
    "# from bs4 import BeautifulSoup\n",
    "\n",
    "# # Parsing and creating xml data\n",
    "# from lxml import etree as et\n",
    "\n",
    "# # Store data as a csv file written out\n",
    "# from csv import writer\n",
    "\n",
    "# # In general to use with timing our function calls to Indeed\n",
    "# import time\n",
    "\n",
    "# # Assist with creating incremental timing for our scraping to seem more human\n",
    "# from time import sleep\n",
    "\n",
    "# # Dataframe stuff\n",
    "# import pandas as pd\n",
    "\n",
    "# # Random integer for more realistic timing for clicks, buttons and searches during scraping\n",
    "# from random import randint\n",
    "\n",
    "# # Multi Threading\n",
    "# import threading\n",
    "\n",
    "# # Threading:\n",
    "# from concurrent.futures import ThreadPoolExecutor, wait"
   ]
  },
  {
   "cell_type": "code",
   "execution_count": 100,
   "metadata": {},
   "outputs": [],
   "source": [
    "# import selenium\n",
    "\n",
    "# # Check version I am running\n",
    "# selenium.__version__"
   ]
  },
  {
   "cell_type": "code",
   "execution_count": 101,
   "metadata": {},
   "outputs": [],
   "source": [
    "# # Selenium 4:\n",
    "\n",
    "# from selenium import webdriver\n",
    "\n",
    "# # Starting/Stopping Driver: can specify ports or location but not remote access\n",
    "# from selenium.webdriver.chrome.service import Service as ChromeService\n",
    "\n",
    "# # Manages Binaries needed for WebDriver without installing anything directly\n",
    "# from webdriver_manager.chrome import ChromeDriverManager"
   ]
  },
  {
   "cell_type": "code",
   "execution_count": 102,
   "metadata": {},
   "outputs": [],
   "source": [
    "# # Allows searchs similar to beautiful soup: find_all\n",
    "# from selenium.webdriver.common.by import By\n",
    "\n",
    "# # Try to establish wait times for the page to load\n",
    "# from selenium.webdriver.support.ui import WebDriverWait\n",
    "\n",
    "# # Wait for specific condition based on defined task: web elements, boolean are examples\n",
    "# from selenium.webdriver.support import expected_conditions as EC\n",
    "\n",
    "# # Used for keyboard movements, up/down, left/right,delete, etc\n",
    "# from selenium.webdriver.common.keys import Keys\n",
    "\n",
    "# # Locate elements on page and throw error if they do not exist\n",
    "# from selenium.common.exceptions import NoSuchElementException"
   ]
  },
  {
   "cell_type": "code",
   "execution_count": 103,
   "metadata": {},
   "outputs": [],
   "source": [
    "# # Allows you to cusotmize: ingonito mode, maximize window size, headless browser, disable certain features, etc\n",
    "# option= webdriver.ChromeOptions()\n",
    "\n",
    "# # Going undercover:\n",
    "# option.add_argument(\"--incognito\")\n",
    "\n",
    "\n",
    "# # # Consider this if the application works and you know how it works for speed ups and rendering!\n",
    "\n",
    "# # option.add_argument('--headless=chrome')"
   ]
  },
  {
   "cell_type": "code",
   "execution_count": 104,
   "metadata": {},
   "outputs": [],
   "source": [
    "    # # Define job search keyword for Data Analyst\n",
    "    # job_search_keyword = ['Python+developer']\n",
    "\n",
    "    # # Finding position, radius=35 miles, sort by date and starting page\n",
    "    # # pagination_url = 'https://www.indeed.com/jobs?q={}&l=' \n",
    "    # pagination_url = 'https://in.indeed.com/jobs?q={}&l=&from=searchOnHP&vjk=71d709239fecfc67'  \n",
    "\n",
    "    # # Print the pagination URL for Data Analyst\n",
    "    # print(pagination_url.format(job_search_keyword[0], 0))\n"
   ]
  },
  {
   "cell_type": "code",
   "execution_count": 105,
   "metadata": {},
   "outputs": [],
   "source": [
    "# start = time.time()\n",
    "\n",
    "# job = 'Python+developer'\n",
    "\n",
    "# driver = webdriver.Chrome(service=ChromeService(ChromeDriverManager().install()), options=option)\n",
    "\n",
    "# driver.get(pagination_url.format(job_search_keyword[0], 0))\n",
    "\n",
    "# # Add a sleep to simulate human-like interactions\n",
    "# sleep(randint(2, 6))\n",
    "\n",
    "# # Find the job count element\n",
    "# job_count_element = driver.find_element(By.CLASS_NAME, 'jobsearch-JobCountAndSortPane-jobCount')\n",
    "\n",
    "# # Extract the job count text\n",
    "# job_count_text = job_count_element.text\n",
    "\n",
    "# # Extract the numerical job count\n",
    "# # job_count = int(job_count_text.split(' ')[0])\n",
    "# # Extract the numerical job count, removing commas\n",
    "# job_count = int(job_count_text.split(' ')[0].replace(',', ''))\n",
    "\n",
    "\n",
    "\n",
    "# # Calculate the maximum iterable pages\n",
    "# max_iter_pgs = job_count // 15\n",
    "\n",
    "# # Continue with the rest of your code if needed\n",
    "\n",
    "# driver.quit()  # Closing the browser session\n",
    "\n",
    "# end = time.time()\n",
    "\n",
    "# print(end - start, 'seconds to complete action!')\n",
    "# print('-----------------------')\n",
    "# print('Max Iterable Pages for this search:', max_iter_pgs)\n",
    " \n"
   ]
  },
  {
   "cell_type": "code",
   "execution_count": 106,
   "metadata": {},
   "outputs": [],
   "source": [
    "# print(job_count)"
   ]
  },
  {
   "cell_type": "code",
   "execution_count": 107,
   "metadata": {},
   "outputs": [],
   "source": [
    "# def try_except(func, default_value):\n",
    "#     try:\n",
    "#         return func()\n",
    "#     except NoSuchElementException:\n",
    "#         return default_value\n",
    "\n",
    "# start = time.time()\n",
    "\n",
    "# job = 'Python+developer'\n",
    "\n",
    "# job_lst = []\n",
    "# salary_list = []\n",
    "\n",
    "# driver = webdriver.Chrome(service=ChromeService(ChromeDriverManager().install()), options=option)\n",
    "# sleep(randint(2, 6))\n",
    "\n",
    "# # Set a limit for the number of pages to print debug messages\n",
    "# debug_pages_limit = 13\n",
    "# pages_processed = 0\n",
    "\n",
    "# for i in range(0, max_iter_pgs):\n",
    "#     driver.get(pagination_url.format(job, '', i * 10))\n",
    "\n",
    "#     print(f\"Page {i+1} loaded successfully.\")\n",
    "\n",
    "#     sleep(randint(2, 4))\n",
    "\n",
    "#     job_page = driver.find_element(By.ID, \"mosaic-jobResults\")\n",
    "#     jobs = job_page.find_elements(By.CLASS_NAME, \"job_seen_beacon\")\n",
    "\n",
    "#     for jj in jobs:\n",
    "#         job_title = jj.find_element(By.CLASS_NAME, \"jobTitle\")\n",
    "\n",
    "#         print(f\"Processing job: {job_title.text}\")\n",
    "\n",
    "#         job_lst.append([\n",
    "#             job_title.text,\n",
    "#             job_title.find_element(By.CSS_SELECTOR, \"a\").get_attribute(\"href\"),\n",
    "#             job_title.find_element(By.CSS_SELECTOR, \"a\").get_attribute(\"id\"),\n",
    "#             try_except(lambda: jj.find_element(By.CLASS_NAME, \"companyName\").text, None),\n",
    "#             job_title.find_element(By.CSS_SELECTOR, \"a\").get_attribute(\"href\")\n",
    "#         ])\n",
    "\n",
    "#         try:\n",
    "#             salary_list.append(jj.find_element(By.CLASS_NAME, \"salary-snippet-container\").text)\n",
    "#         except NoSuchElementException:\n",
    "#             try:\n",
    "#                 salary_list.append(jj.find_element(By.CLASS_NAME, \"estimated-salary\").text)\n",
    "#             except NoSuchElementException:\n",
    "#                 salary_list.append(None)\n",
    "\n",
    "#     # Increment the pages processed counter\n",
    "#     pages_processed += 1\n",
    "\n",
    "#     # Check if we have reached the debug pages limit\n",
    "#     if pages_processed >= debug_pages_limit:\n",
    "#         print(f\"Debug messages truncated after processing {debug_pages_limit} pages.\")\n",
    "#         break\n",
    "\n",
    "# driver.quit()\n",
    "\n",
    "# end = time.time()\n",
    "\n",
    "# print(end - start, 'seconds to complete Query!')\n"
   ]
  },
  {
   "cell_type": "code",
   "execution_count": 108,
   "metadata": {},
   "outputs": [],
   "source": [
    "# print(job_lst[0:4])\n",
    "# print(salary_list[0:4])"
   ]
  },
  {
   "cell_type": "code",
   "execution_count": null,
   "metadata": {},
   "outputs": [],
   "source": []
  }
 ],
 "metadata": {
  "kernelspec": {
   "display_name": "Python 3",
   "language": "python",
   "name": "python3"
  },
  "language_info": {
   "codemirror_mode": {
    "name": "ipython",
    "version": 3
   },
   "file_extension": ".py",
   "mimetype": "text/x-python",
   "name": "python",
   "nbconvert_exporter": "python",
   "pygments_lexer": "ipython3",
   "version": "3.10.11"
  }
 },
 "nbformat": 4,
 "nbformat_minor": 2
}
