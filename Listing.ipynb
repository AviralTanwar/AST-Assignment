{
 "cells": [
  {
   "cell_type": "code",
   "execution_count": 177,
   "metadata": {},
   "outputs": [],
   "source": [
    "# pip install pymongo\n",
    "# !pip install dnspython"
   ]
  },
  {
   "cell_type": "code",
   "execution_count": 178,
   "metadata": {},
   "outputs": [],
   "source": [
    "# import requests\n",
    "# from pymongo import MongoClient\n",
    "# import json"
   ]
  },
  {
   "cell_type": "code",
   "execution_count": 179,
   "metadata": {},
   "outputs": [],
   "source": [
    "# client = MongoClient('mongodb://localhost:27017/')\n",
    "# database = client['IndeedJobListing']\n",
    "# collection = database['Hello']"
   ]
  },
  {
   "cell_type": "code",
   "execution_count": 180,
   "metadata": {},
   "outputs": [],
   "source": [
    "# job_search_keyword = ['Python+developer']\n",
    "# api_url = \"https://api.scrapingdog.com/indeed\"\n",
    "# api_key = \"659b01009794a261d9eaee40\"\n",
    "# pagination_url = \"https://in.indeed.com/jobs?q={}&l=&from=searchOnHP&vjk=71d709239fecfc67\"\n",
    "# job_search_url = pagination_url.format(job_search_keyword[0], 0)\n",
    "\n",
    "# # Set up the parameters\n",
    "# params = {\"api_key\": api_key, \"url\": job_search_url}\n",
    "# print(params)\n",
    "# # Make the HTTP GET request\n",
    "# response = requests.get(api_url, params=params)\n",
    "\n"
   ]
  },
  {
   "cell_type": "code",
   "execution_count": 181,
   "metadata": {},
   "outputs": [],
   "source": [
    "# # Check if the request was successful (status code 200)\n",
    "# if response.status_code == 200:\n",
    "#     # Parse the JSON content\n",
    "#     json_response = response.json()\n",
    "#     # Store the data in MongoDB\n",
    "#     # collection.insert_one(json_response)\n",
    "#     if isinstance(json_response, list):\n",
    "#         for item in json_response:\n",
    "#             # Extract 'Salary' information\n",
    "#             salary_info = item.get('Salary', '')\n",
    "#             item['Salary'] = salary_info.strip() if salary_info else None\n",
    "#             collection.insert_one(item)\n",
    "#     else:\n",
    "#         # Extract 'Salary' information\n",
    "#         salary_info = json_response.get('Salary', '')\n",
    "#         json_response['Salary'] = salary_info.strip() if salary_info else None\n",
    "#         # If json_response is a single document, insert it directly\n",
    "#         collection.insert_one(json_response)\n",
    "#         print(\"Data inserted into MongoDB successfully.\")\n",
    "#     print(json_response)\n",
    "# else:\n",
    "#     print(f\"Error: {response.status_code}\")\n",
    "#     print(response.text)\n",
    "\n",
    "\n"
   ]
  },
  {
   "cell_type": "code",
   "execution_count": 182,
   "metadata": {},
   "outputs": [],
   "source": [
    "# type(json_response)"
   ]
  },
  {
   "cell_type": "code",
   "execution_count": 183,
   "metadata": {},
   "outputs": [],
   "source": [
    "# def convert(lst):\n",
    "#    res_dict = {}\n",
    "#    for i in range(0, len(lst), 2):\n",
    "#        res_dict[lst[i]] = lst[i + 1]\n",
    "#    return res_dict\n",
    " \n",
    " \n",
    "# # convert(json_response) = convert(json_response)"
   ]
  },
  {
   "cell_type": "code",
   "execution_count": 184,
   "metadata": {},
   "outputs": [],
   "source": [
    "    # if isinstance(json_response, list):\n",
    "    #     for item in json_response:\n",
    "    #         collection.insert_one(item)\n",
    "    #     print(\"Data inserted into MongoDB successfully.\")\n",
    "    # else:\n",
    "    #     # If json_response is a single document, insert it directly\n",
    "    #     collection.insert_one(json_response)\n",
    "    #     print(\"Data inserted into MongoDB successfully.\") "
   ]
  },
  {
   "cell_type": "code",
   "execution_count": null,
   "metadata": {},
   "outputs": [],
   "source": []
  },
  {
   "cell_type": "code",
   "execution_count": 98,
   "metadata": {},
   "outputs": [],
   "source": [
    "# # Install if you have never used these: unblock the lines below to install if needed\n",
    "# !pip install webdriver-manager\n",
    "# !pip3 install lxml\n",
    "# !pip3 install selenium\n",
    "# !pip3 install webdriver_manager\n",
    "# !pip install --upgrade pip\n",
    "# !pip install -U selenium\n",
    "# !pip install msedge-selenium-tools\n"
   ]
  },
  {
   "cell_type": "code",
   "execution_count": 209,
   "metadata": {},
   "outputs": [],
   "source": [
    "# --------- import necessary modules -------\n",
    "\n",
    "# For webscraping\n",
    "from bs4 import BeautifulSoup\n",
    "\n",
    "# Parsing and creating xml data\n",
    "from lxml import etree as et\n",
    "\n",
    "# Store data as a csv file written out\n",
    "from csv import writer\n",
    "\n",
    "# In general to use with timing our function calls to Indeed\n",
    "import time\n",
    "\n",
    "# Assist with creating incremental timing for our scraping to seem more human\n",
    "from time import sleep\n",
    "\n",
    "# Dataframe stuff\n",
    "import pandas as pd\n",
    "\n",
    "# Random integer for more realistic timing for clicks, buttons and searches during scraping\n",
    "from random import randint\n",
    "\n",
    "# Multi Threading\n",
    "import threading\n",
    "\n",
    "# Threading:\n",
    "from concurrent.futures import ThreadPoolExecutor, wait"
   ]
  },
  {
   "cell_type": "code",
   "execution_count": 210,
   "metadata": {},
   "outputs": [
    {
     "data": {
      "text/plain": [
       "'4.15.2'"
      ]
     },
     "execution_count": 210,
     "metadata": {},
     "output_type": "execute_result"
    }
   ],
   "source": [
    "import selenium\n",
    "\n",
    "# Check version I am running\n",
    "selenium.__version__"
   ]
  },
  {
   "cell_type": "code",
   "execution_count": 211,
   "metadata": {},
   "outputs": [],
   "source": [
    "# Selenium 4:\n",
    "\n",
    "from selenium import webdriver\n",
    "\n",
    "# Starting/Stopping Driver: can specify ports or location but not remote access\n",
    "from selenium.webdriver.chrome.service import Service as ChromeService\n",
    "\n",
    "# Manages Binaries needed for WebDriver without installing anything directly\n",
    "from webdriver_manager.chrome import ChromeDriverManager"
   ]
  },
  {
   "cell_type": "code",
   "execution_count": 212,
   "metadata": {},
   "outputs": [],
   "source": [
    "# Allows searchs similar to beautiful soup: find_all\n",
    "from selenium.webdriver.common.by import By\n",
    "\n",
    "# Try to establish wait times for the page to load\n",
    "from selenium.webdriver.support.ui import WebDriverWait\n",
    "\n",
    "# Wait for specific condition based on defined task: web elements, boolean are examples\n",
    "from selenium.webdriver.support import expected_conditions as EC\n",
    "\n",
    "# Used for keyboard movements, up/down, left/right,delete, etc\n",
    "from selenium.webdriver.common.keys import Keys\n",
    "\n",
    "# Locate elements on page and throw error if they do not exist\n",
    "from selenium.common.exceptions import NoSuchElementException"
   ]
  },
  {
   "cell_type": "code",
   "execution_count": 213,
   "metadata": {},
   "outputs": [],
   "source": [
    "# Allows you to cusotmize: ingonito mode, maximize window size, headless browser, disable certain features, etc\n",
    "option= webdriver.ChromeOptions()\n",
    "\n",
    "# Going undercover:\n",
    "option.add_argument(\"--incognito\")\n",
    "\n",
    "\n",
    "# # Consider this if the application works and you know how it works for speed ups and rendering!\n",
    "\n",
    "# option.add_argument('--headless=chrome')"
   ]
  },
  {
   "cell_type": "code",
   "execution_count": 214,
   "metadata": {},
   "outputs": [
    {
     "name": "stdout",
     "output_type": "stream",
     "text": [
      "https://in.indeed.com/jobs?q=Python+developer&l=&from=searchOnHP&vjk=71d709239fecfc67\n"
     ]
    }
   ],
   "source": [
    "    # Define job search keyword for Data Analyst\n",
    "    job_search_keyword = ['Python+developer']\n",
    "\n",
    "    # Finding position, radius=35 miles, sort by date and starting page\n",
    "    # pagination_url = 'https://www.indeed.com/jobs?q={}&l=' \n",
    "    pagination_url = 'https://in.indeed.com/jobs?q={}&l=&from=searchOnHP&vjk=71d709239fecfc67'  \n",
    "\n",
    "    # Print the pagination URL for Data Analyst\n",
    "    print(pagination_url.format(job_search_keyword[0], 0))\n"
   ]
  },
  {
   "cell_type": "code",
   "execution_count": 215,
   "metadata": {},
   "outputs": [
    {
     "name": "stdout",
     "output_type": "stream",
     "text": [
      "17.563363790512085 seconds to complete action!\n",
      "-----------------------\n",
      "Max Iterable Pages for this search: 612\n"
     ]
    }
   ],
   "source": [
    "start = time.time()\n",
    "\n",
    "job = 'Python+developer'\n",
    "\n",
    "driver = webdriver.Chrome(service=ChromeService(ChromeDriverManager().install()), options=option)\n",
    "\n",
    "driver.get(pagination_url.format(job_search_keyword[0], 0))\n",
    "\n",
    "# Add a sleep to simulate human-like interactions\n",
    "sleep(randint(2, 6))\n",
    "\n",
    "# Find the job count element\n",
    "job_count_element = driver.find_element(By.CLASS_NAME, 'jobsearch-JobCountAndSortPane-jobCount')\n",
    "\n",
    "# Extract the job count text\n",
    "job_count_text = job_count_element.text\n",
    "\n",
    "# Extract the numerical job count\n",
    "# job_count = int(job_count_text.split(' ')[0])\n",
    "# Extract the numerical job count, removing commas\n",
    "job_count = int(job_count_text.split(' ')[0].replace(',', ''))\n",
    "\n",
    "\n",
    "\n",
    "# Calculate the maximum iterable pages\n",
    "max_iter_pgs = job_count // 15\n",
    "\n",
    "# Continue with the rest of your code if needed\n",
    "\n",
    "driver.quit()  # Closing the browser session\n",
    "\n",
    "end = time.time()\n",
    "\n",
    "print(end - start, 'seconds to complete action!')\n",
    "print('-----------------------')    \n",
    "print('Max Iterable Pages for this search:', max_iter_pgs)\n",
    " \n"
   ]
  },
  {
   "cell_type": "code",
   "execution_count": 216,
   "metadata": {},
   "outputs": [
    {
     "name": "stdout",
     "output_type": "stream",
     "text": [
      "9194\n"
     ]
    }
   ],
   "source": [
    "print(job_count)"
   ]
  },
  {
   "cell_type": "code",
   "execution_count": 217,
   "metadata": {},
   "outputs": [
    {
     "name": "stdout",
     "output_type": "stream",
     "text": [
      "Page 1 loaded successfully.\n",
      "Processing job: Data Engineer III\n",
      "Processing job: Backend Software Developer (PHP/Python)\n",
      "Processing job: PHP Developer/Laravel Developer\n",
      "Processing job: AWS/DevOps Engineer\n",
      "Processing job: Analyst I - IT Solutions\n",
      "Processing job: Senior Manager - (Data Security/ Data Management)\n",
      "Processing job: Python Developer\n",
      "Processing job: Python Developer\n",
      "Processing job: Python/Django Developer\n",
      "Processing job: Python Developer , Associate\n",
      "Processing job: Python Developer\n",
      "Processing job: Backend Python Developer - WFH\n",
      "Processing job: Sr. Python Developer\n",
      "Processing job: Architect II - Software Engineering\n",
      "Processing job: Python Developer\n",
      "Page 2 loaded successfully.\n",
      "Processing job: Data Engineer III\n",
      "Processing job: \n",
      "Processing job: \n",
      "Processing job: \n",
      "Processing job: \n",
      "Processing job: \n",
      "Processing job: \n",
      "Processing job: \n",
      "Processing job: \n",
      "Processing job: \n",
      "Processing job: \n",
      "Processing job: \n",
      "Processing job: \n",
      "Processing job: \n",
      "Processing job: \n",
      "Page 3 loaded successfully.\n",
      "Processing job: Data Engineer III\n",
      "Processing job: Backend Software Developer (PHP/Python)\n",
      "Processing job: PHP Developer/Laravel Developer\n",
      "Processing job: AWS/DevOps Engineer\n",
      "Processing job: Analyst I - IT Solutions\n",
      "Processing job: Senior Manager - (Data Security/ Data Management)\n",
      "Processing job: Python Developer\n",
      "Processing job: Python Developer\n",
      "Processing job: Python/Django Developer\n",
      "Processing job: Python Developer , Associate\n",
      "Processing job: Python Developer\n",
      "Processing job: Backend Python Developer - WFH\n",
      "Processing job: Sr. Python Developer\n",
      "Processing job: Architect II - Software Engineering\n",
      "Processing job: Python Developer\n",
      "Page 4 loaded successfully.\n",
      "Processing job: Data Engineer III\n",
      "Processing job: Backend Software Developer (PHP/Python)\n",
      "Processing job: PHP Developer/Laravel Developer\n",
      "Processing job: AWS/DevOps Engineer\n",
      "Processing job: Analyst I - IT Solutions\n",
      "Processing job: Senior Manager - (Data Security/ Data Management)\n",
      "Processing job: Python Developer\n",
      "Processing job: Python Developer\n",
      "Processing job: Python/Django Developer\n",
      "Processing job: Python Developer , Associate\n",
      "Processing job: Python Developer\n",
      "Processing job: Backend Python Developer - WFH\n",
      "Processing job: Sr. Python Developer\n",
      "Processing job: Architect II - Software Engineering\n",
      "Processing job: Python Developer\n",
      "Page 5 loaded successfully.\n",
      "Processing job: Data Engineer III\n",
      "Processing job: Backend Software Developer (PHP/Python)\n",
      "Processing job: PHP Developer/Laravel Developer\n",
      "Processing job: AWS/DevOps Engineer\n",
      "Processing job: Analyst I - IT Solutions\n",
      "Processing job: Senior Manager - (Data Security/ Data Management)\n",
      "Processing job: Python/Django Developer\n",
      "Processing job: Backend Python Developer - WFH\n",
      "Processing job: Python Developer\n",
      "Processing job: Python Developer\n",
      "Processing job: Python Developer\n",
      "Processing job: Python Developer\n",
      "Processing job: Python Developer , Associate\n",
      "Processing job: Architect II - Software Engineering\n",
      "Processing job: Python Developer\n",
      "Debug messages truncated after processing 5 pages.\n",
      "45.147990226745605 seconds to complete Query!\n"
     ]
    }
   ],
   "source": [
    "def try_except(func, default_value):\n",
    "    try:\n",
    "        return func()\n",
    "    except NoSuchElementException:\n",
    "        return default_value\n",
    "\n",
    "start = time.time()\n",
    "\n",
    "job = 'Python+developer'\n",
    "\n",
    "job_lst = []\n",
    "salary_list = []\n",
    "\n",
    "driver = webdriver.Chrome(service=ChromeService(ChromeDriverManager().install()), options=option)\n",
    "sleep(randint(2, 6))\n",
    "\n",
    "# Set a limit for the number of pages to print debug messages\n",
    "debug_pages_limit = 5\n",
    "pages_processed = 0\n",
    "\n",
    "for i in range(0, max_iter_pgs):\n",
    "    driver.get(pagination_url.format(job, '', i * 10))\n",
    "\n",
    "    print(f\"Page {i+1} loaded successfully.\")\n",
    "\n",
    "    sleep(randint(2, 4))\n",
    "\n",
    "    job_page = driver.find_element(By.ID, \"mosaic-jobResults\")\n",
    "    jobs = job_page.find_elements(By.CLASS_NAME, \"job_seen_beacon\")\n",
    "\n",
    "    for jj in jobs:\n",
    "        job_title = jj.find_element(By.CLASS_NAME, \"jobTitle\")\n",
    "\n",
    "        print(f\"Processing job: {job_title.text}\")\n",
    "\n",
    "        job_lst.append([\n",
    "            job_title.text,\n",
    "            job_title.find_element(By.CSS_SELECTOR, \"a\").get_attribute(\"href\"),\n",
    "            job_title.find_element(By.CSS_SELECTOR, \"a\").get_attribute(\"id\"),      \n",
    "            # jj.find_element(By.CLASS_NAME,\"companyName\").text,       \n",
    "            jj.find_element(By.CLASS_NAME,\"company_location\").text,\n",
    "            # try_except(lambda: jj.find_element(By.CLASS_NAME, \"companyName\").text, None),\n",
    "            job_title.find_element(By.CSS_SELECTOR, \"a\").get_attribute(\"href\")\n",
    "        ])\n",
    "\n",
    "        try:\n",
    "            salary_list.append(jj.find_element(By.CLASS_NAME, \"salary-snippet-container\").text)\n",
    "        except NoSuchElementException:\n",
    "            try:\n",
    "                salary_list.append(jj.find_element(By.CLASS_NAME, \"estimated-salary\").text)\n",
    "            except NoSuchElementException:\n",
    "                salary_list.append(None)\n",
    "\n",
    "    # Increment the pages processed counter\n",
    "    pages_processed += 1\n",
    "\n",
    "    # Check if we have reached the debug pages limit\n",
    "    if pages_processed >= debug_pages_limit:\n",
    "        print(f\"Debug messages truncated after processing {debug_pages_limit} pages.\")\n",
    "        break\n",
    "\n",
    "driver.quit()\n",
    "\n",
    "end = time.time()\n",
    "\n",
    "print(end - start, 'seconds to complete Query!')\n"
   ]
  },
  {
   "cell_type": "code",
   "execution_count": 220,
   "metadata": {},
   "outputs": [
    {
     "name": "stdout",
     "output_type": "stream",
     "text": [
      "[['Data Engineer III', 'https://in.indeed.com/pagead/clk?mo=r&ad=-6NYlbfkN0BdkRqoRBllJ3ABBfj5Fwuh4mkM_IbFmVz4qW6oqmasiKwSJy7uXCuCnXnUyLvXm10yTe9BLdEoNGdyosK9BGtOFYwqQ-mLZ89v9g9f4qjujqcAhRsJUlwUYOmf3WinzxT3dn_cYgCKgP_0Jj2ylNcixGmWKl2wzXyhoFEglp9CCMMbP5l32d_6iIsD4JFEGdF3Mzvpf2_ovVcaBc2wPqMelhGaOJocNiaXHQ2Vu4TSPbpr2q_uo4on2CrroJOTcprQUm6S_1b0g3f4pzFtFXNHfJo4PI52UTJSo7vUYdB8Hu3fuN7vWpn74ZBEKJ0NZzvmGqHexhqFyl_w4pr8I8qFTzYGuv8HR09HSVFZw7aKDEhCCyQAaChoMQsDnY3RwSLInUz2DrdOaloSOQb5pQJ-nKcyTFKssKi7LrUCkh859yqFQgPF_v7cVB-jpSv64KDJOFAo95q87RbK3TrK8qziwQdtCMKV1HJzowXTVjcEnwrAYU9pU7wYp6i-YXAdooV8MQ5F3qVkdt11NGZnA6oTJnhe30aMAW0rJVrry5lbZDbPitK7lELYCSELKeRkShjkw-NM3p13dGsU5xWxzVKqv0OEUsDimxI=&xkcb=SoCF6_M3G1R2pFwHhB0KbzkdCdPP&p=0&fvj=1&vjs=3', 'sj_5d8a5ec3c615e23b', 'Indeed\\nHyderabad, Telangana', 'https://in.indeed.com/pagead/clk?mo=r&ad=-6NYlbfkN0BdkRqoRBllJ3ABBfj5Fwuh4mkM_IbFmVz4qW6oqmasiKwSJy7uXCuCnXnUyLvXm10yTe9BLdEoNGdyosK9BGtOFYwqQ-mLZ89v9g9f4qjujqcAhRsJUlwUYOmf3WinzxT3dn_cYgCKgP_0Jj2ylNcixGmWKl2wzXyhoFEglp9CCMMbP5l32d_6iIsD4JFEGdF3Mzvpf2_ovVcaBc2wPqMelhGaOJocNiaXHQ2Vu4TSPbpr2q_uo4on2CrroJOTcprQUm6S_1b0g3f4pzFtFXNHfJo4PI52UTJSo7vUYdB8Hu3fuN7vWpn74ZBEKJ0NZzvmGqHexhqFyl_w4pr8I8qFTzYGuv8HR09HSVFZw7aKDEhCCyQAaChoMQsDnY3RwSLInUz2DrdOaloSOQb5pQJ-nKcyTFKssKi7LrUCkh859yqFQgPF_v7cVB-jpSv64KDJOFAo95q87RbK3TrK8qziwQdtCMKV1HJzowXTVjcEnwrAYU9pU7wYp6i-YXAdooV8MQ5F3qVkdt11NGZnA6oTJnhe30aMAW0rJVrry5lbZDbPitK7lELYCSELKeRkShjkw-NM3p13dGsU5xWxzVKqv0OEUsDimxI=&xkcb=SoCF6_M3G1R2pFwHhB0KbzkdCdPP&p=0&fvj=1&vjs=3'], ['Backend Software Developer (PHP/Python)', 'https://in.indeed.com/pagead/clk?mo=r&ad=-6NYlbfkN0AbBWiNn4U3TqErPbaJt3RaraPXZx3F8NJx3nQOBGYwFUsd-nxMjKvAtUvCbtsdo-6Tjill_Mr4-9Hgjd9lk7-lYrOpV3Hwo1NPQdDEAEyopLrjyvpi_p2_dMe2uhyGxyOT7wAPgwrN-y8GdqW3_sSYE3yTwAiTy6S9FiSWBK5A8ZRt1oX2iOWaYueAM991YMQ8QaMdLF17yP2ezspRwA89f3LyxOm1VJpXg8vgDR-hCktBc7WNX6JehyeuOpjE4_3zsBczACH3bMCYOnvrUos6VDzlATKv4fqpBdh8NtgS-8Nqx2BRYWvgXcESbR2MypcPi09gxfbSa_wR0XuLk8ERiSBcnZtNvR-GaxQYR6PsMEGPX4YV3m8dVnwZTbe3oRNTMnt1WZCpFvt_st7DaLe5fy_IlpD22JUFdzj9rRuUgAO4HOtmQfc0rEYQ7ysfphUXsptqbqEQhseHmfiJ6e38hJcA3lAfTLQ5jNzM7f0yKEnQk9vey3KW2AcJamjQLtmBydO0qlGWfshCUWp1mSucTTMvt55OTfvA48OwwUJyYXkfHrKuTrN6-9v04Q9P-KPiYz5jl2F8Fo3EXqmYqKcepnx1J55URBEMrdXN-6DBj4Rhy_EjMhcBTDb19YNWlgs=&xkcb=SoAY6_M3G1R2pFwHhB0JbzkdCdPP&p=1&fvj=1&vjs=3', 'sj_a7d36bf719cf3408', 'Think Huge Ltd\\nRemote', 'https://in.indeed.com/pagead/clk?mo=r&ad=-6NYlbfkN0AbBWiNn4U3TqErPbaJt3RaraPXZx3F8NJx3nQOBGYwFUsd-nxMjKvAtUvCbtsdo-6Tjill_Mr4-9Hgjd9lk7-lYrOpV3Hwo1NPQdDEAEyopLrjyvpi_p2_dMe2uhyGxyOT7wAPgwrN-y8GdqW3_sSYE3yTwAiTy6S9FiSWBK5A8ZRt1oX2iOWaYueAM991YMQ8QaMdLF17yP2ezspRwA89f3LyxOm1VJpXg8vgDR-hCktBc7WNX6JehyeuOpjE4_3zsBczACH3bMCYOnvrUos6VDzlATKv4fqpBdh8NtgS-8Nqx2BRYWvgXcESbR2MypcPi09gxfbSa_wR0XuLk8ERiSBcnZtNvR-GaxQYR6PsMEGPX4YV3m8dVnwZTbe3oRNTMnt1WZCpFvt_st7DaLe5fy_IlpD22JUFdzj9rRuUgAO4HOtmQfc0rEYQ7ysfphUXsptqbqEQhseHmfiJ6e38hJcA3lAfTLQ5jNzM7f0yKEnQk9vey3KW2AcJamjQLtmBydO0qlGWfshCUWp1mSucTTMvt55OTfvA48OwwUJyYXkfHrKuTrN6-9v04Q9P-KPiYz5jl2F8Fo3EXqmYqKcepnx1J55URBEMrdXN-6DBj4Rhy_EjMhcBTDb19YNWlgs=&xkcb=SoAY6_M3G1R2pFwHhB0JbzkdCdPP&p=1&fvj=1&vjs=3'], ['PHP Developer/Laravel Developer', 'https://in.indeed.com/pagead/clk?mo=r&ad=-6NYlbfkN0CFSq8f_VUyHBFZks0o_4P38wARhnL91RLnZYMJBy95Kr88agF6mhAA-eL0qVl2wJyIFaGvEdYPSul8ddhpwewJqhsR7IswY81dFCjrutcqRiU6IYq2vqKAMPE0GSrCjpsCj9705UI7I4o9kIglY0WZrs3lx5tABSbwT1gbQAPdn1sfGto_RQAOVHunP3b9G7Pp94Bz5hmCdmUty0l_RmmtdF1OG4zq5ufm6afpk-0SltWlszajeQ4Yw1m0zFxOnofjPBVrLF4gfLgggUDmT3rRd2eVBo2fI_CfOlOP22LuXCPNgCOzFVeeyriaZMvOzfZHCcRKVO7sTLQDuTrbyiDwRalp9GQFKX5kzX4liPaIUIEJteyP6HdaVWGiDCeKYpSixNnhTjez3SiwhDY7NHgk0atUFV41kVIenUVPNZQXLScaV_1kZPpufxs2ImZJgx7MZqZBt3sBLbW37C0Su7HKJSSb5wMBubq0vXfJV1IqubWqtxzagY0NBx200K_AQLu3xwA_2BdwIUkBmX_UIxviOc1c9g9GU9OUUDYIdtM892nJVDlnlKRaH4vrULb8mxZK1DhZFTVYjnLabTcN0mqtSR1sUo5qPHeJ0MrH-zrKjtNnSH3gnV6h&xkcb=SoCs6_M3G1R2pFwHhB0IbzkdCdPP&p=2&fvj=1&vjs=3', 'sj_031f86618a604306', 'Intelligent Outsourcing\\nMohali, Punjab', 'https://in.indeed.com/pagead/clk?mo=r&ad=-6NYlbfkN0CFSq8f_VUyHBFZks0o_4P38wARhnL91RLnZYMJBy95Kr88agF6mhAA-eL0qVl2wJyIFaGvEdYPSul8ddhpwewJqhsR7IswY81dFCjrutcqRiU6IYq2vqKAMPE0GSrCjpsCj9705UI7I4o9kIglY0WZrs3lx5tABSbwT1gbQAPdn1sfGto_RQAOVHunP3b9G7Pp94Bz5hmCdmUty0l_RmmtdF1OG4zq5ufm6afpk-0SltWlszajeQ4Yw1m0zFxOnofjPBVrLF4gfLgggUDmT3rRd2eVBo2fI_CfOlOP22LuXCPNgCOzFVeeyriaZMvOzfZHCcRKVO7sTLQDuTrbyiDwRalp9GQFKX5kzX4liPaIUIEJteyP6HdaVWGiDCeKYpSixNnhTjez3SiwhDY7NHgk0atUFV41kVIenUVPNZQXLScaV_1kZPpufxs2ImZJgx7MZqZBt3sBLbW37C0Su7HKJSSb5wMBubq0vXfJV1IqubWqtxzagY0NBx200K_AQLu3xwA_2BdwIUkBmX_UIxviOc1c9g9GU9OUUDYIdtM892nJVDlnlKRaH4vrULb8mxZK1DhZFTVYjnLabTcN0mqtSR1sUo5qPHeJ0MrH-zrKjtNnSH3gnV6h&xkcb=SoCs6_M3G1R2pFwHhB0IbzkdCdPP&p=2&fvj=1&vjs=3'], ['AWS/DevOps Engineer', 'https://in.indeed.com/pagead/clk?mo=r&ad=-6NYlbfkN0COdlCVXik5s_zAqZPzR-Hu6ju3HrViy8VanpkFINJItBHtx-MMn5zXEb92PStoLlj9DIYAMyFmTseCLt6ma_xB2ibHWzy8zTDCBprvVwWOo-QeOBTrhlrUA77ftEO3c7IK5J_gTmu7R3lpdPX0s9ZcqWLfHLpwGZJXNJBtnBVUJ-6QluYjbBn3ExHhDbPggmm455SJiINu2rbjnWCsst5PSb95CtFsrTgCnBDEm8EAlnXKOg_Ci4ikLAI793CZ70kcQQEz3AY9iPKMnmbbjLh7iJI0fdDluv0_cJGRV2HqPHAmr_WC0iWFt0licMVZVlE3t6yTjt6f_Rt2n7z22qRagYg9u6GsyM8f40DV-sNw5crJR1cFbc1FiaZJpoguVe3WJHoiGwU24ytxalNGB83Iy3cgvv-af_fB-T2eYH0X7fSign-keFbQsxQjwBlHeSpobw6jIgYHDtnGnmOaxZeN9tf1-0OvazZFpPP-n8a1wR8Hf3JTQm1pedK7gTklTdh7RMxiUqpcVqFFKX3xdQd9HazkmwbpmgR2rE3vh8d7OcgDR884wt47PuiFFsnuXfgE5qSErcZAh2n6Dr9kR7CFJRs3AVXlP64=&xkcb=SoAi6_M3G1R2pFwHhB0PbzkdCdPP&p=3&fvj=1&vjs=3', 'sj_8e213e619b1de014', 'Emergio Games Pvt Ltd\\nErnakulam, Kerala', 'https://in.indeed.com/pagead/clk?mo=r&ad=-6NYlbfkN0COdlCVXik5s_zAqZPzR-Hu6ju3HrViy8VanpkFINJItBHtx-MMn5zXEb92PStoLlj9DIYAMyFmTseCLt6ma_xB2ibHWzy8zTDCBprvVwWOo-QeOBTrhlrUA77ftEO3c7IK5J_gTmu7R3lpdPX0s9ZcqWLfHLpwGZJXNJBtnBVUJ-6QluYjbBn3ExHhDbPggmm455SJiINu2rbjnWCsst5PSb95CtFsrTgCnBDEm8EAlnXKOg_Ci4ikLAI793CZ70kcQQEz3AY9iPKMnmbbjLh7iJI0fdDluv0_cJGRV2HqPHAmr_WC0iWFt0licMVZVlE3t6yTjt6f_Rt2n7z22qRagYg9u6GsyM8f40DV-sNw5crJR1cFbc1FiaZJpoguVe3WJHoiGwU24ytxalNGB83Iy3cgvv-af_fB-T2eYH0X7fSign-keFbQsxQjwBlHeSpobw6jIgYHDtnGnmOaxZeN9tf1-0OvazZFpPP-n8a1wR8Hf3JTQm1pedK7gTklTdh7RMxiUqpcVqFFKX3xdQd9HazkmwbpmgR2rE3vh8d7OcgDR884wt47PuiFFsnuXfgE5qSErcZAh2n6Dr9kR7CFJRs3AVXlP64=&xkcb=SoAi6_M3G1R2pFwHhB0PbzkdCdPP&p=3&fvj=1&vjs=3']]\n",
      "['₹53,60,000 - ₹80,40,000 a year', None, '₹25,000 - ₹50,000 a month', '₹10,000 - ₹20,000 a month']\n",
      "['Data Engineer III', 'Backend Software Developer (PHP/Python)', 'PHP Developer/Laravel Developer', 'AWS/DevOps Engineer', 'Analyst I - IT Solutions', 'Senior Manager - (Data Security/ Data Management)', 'Python Developer', 'Python Developer', 'Python/Django Developer', 'Python Developer , Associate', 'Python Developer', 'Backend Python Developer - WFH', 'Sr. Python Developer', 'Architect II - Software Engineering', 'Python Developer', 'Data Engineer III', '', '', '', '', '', '', '', '', '', '', '', '', '', '', 'Data Engineer III', 'Backend Software Developer (PHP/Python)', 'PHP Developer/Laravel Developer', 'AWS/DevOps Engineer', 'Analyst I - IT Solutions', 'Senior Manager - (Data Security/ Data Management)', 'Python Developer', 'Python Developer', 'Python/Django Developer', 'Python Developer , Associate', 'Python Developer', 'Backend Python Developer - WFH', 'Sr. Python Developer', 'Architect II - Software Engineering', 'Python Developer', 'Data Engineer III', 'Backend Software Developer (PHP/Python)', 'PHP Developer/Laravel Developer', 'AWS/DevOps Engineer', 'Analyst I - IT Solutions', 'Senior Manager - (Data Security/ Data Management)', 'Python Developer', 'Python Developer', 'Python/Django Developer', 'Python Developer , Associate', 'Python Developer', 'Backend Python Developer - WFH', 'Sr. Python Developer', 'Architect II - Software Engineering', 'Python Developer', 'Data Engineer III', 'Backend Software Developer (PHP/Python)', 'PHP Developer/Laravel Developer', 'AWS/DevOps Engineer', 'Analyst I - IT Solutions', 'Senior Manager - (Data Security/ Data Management)', 'Python/Django Developer', 'Backend Python Developer - WFH', 'Python Developer', 'Python Developer', 'Python Developer', 'Python Developer', 'Python Developer , Associate', 'Architect II - Software Engineering', 'Python Developer']\n",
      "['https://in.indeed.com/pagead/clk?mo=r&ad=-6NYlbfkN0BdkRqoRBllJ3ABBfj5Fwuh4mkM_IbFmVz4qW6oqmasiKwSJy7uXCuCnXnUyLvXm10yTe9BLdEoNGdyosK9BGtOFYwqQ-mLZ89v9g9f4qjujqcAhRsJUlwUYOmf3WinzxT3dn_cYgCKgP_0Jj2ylNcixGmWKl2wzXyhoFEglp9CCMMbP5l32d_6iIsD4JFEGdF3Mzvpf2_ovVcaBc2wPqMelhGaOJocNiaXHQ2Vu4TSPbpr2q_uo4on2CrroJOTcprQUm6S_1b0g3f4pzFtFXNHfJo4PI52UTJSo7vUYdB8Hu3fuN7vWpn74ZBEKJ0NZzvmGqHexhqFyl_w4pr8I8qFTzYGuv8HR09HSVFZw7aKDEhCCyQAaChoMQsDnY3RwSLInUz2DrdOaloSOQb5pQJ-nKcyTFKssKi7LrUCkh859yqFQgPF_v7cVB-jpSv64KDJOFAo95q87RbK3TrK8qziwQdtCMKV1HJzowXTVjcEnwrAYU9pU7wYp6i-YXAdooV8MQ5F3qVkdt11NGZnA6oTJnhe30aMAW0rJVrry5lbZDbPitK7lELYCSELKeRkShjkw-NM3p13dGsU5xWxzVKqv0OEUsDimxI=&xkcb=SoCF6_M3G1R2pFwHhB0KbzkdCdPP&p=0&fvj=1&vjs=3', 'https://in.indeed.com/pagead/clk?mo=r&ad=-6NYlbfkN0AbBWiNn4U3TqErPbaJt3RaraPXZx3F8NJx3nQOBGYwFUsd-nxMjKvAtUvCbtsdo-6Tjill_Mr4-9Hgjd9lk7-lYrOpV3Hwo1NPQdDEAEyopLrjyvpi_p2_dMe2uhyGxyOT7wAPgwrN-y8GdqW3_sSYE3yTwAiTy6S9FiSWBK5A8ZRt1oX2iOWaYueAM991YMQ8QaMdLF17yP2ezspRwA89f3LyxOm1VJpXg8vgDR-hCktBc7WNX6JehyeuOpjE4_3zsBczACH3bMCYOnvrUos6VDzlATKv4fqpBdh8NtgS-8Nqx2BRYWvgXcESbR2MypcPi09gxfbSa_wR0XuLk8ERiSBcnZtNvR-GaxQYR6PsMEGPX4YV3m8dVnwZTbe3oRNTMnt1WZCpFvt_st7DaLe5fy_IlpD22JUFdzj9rRuUgAO4HOtmQfc0rEYQ7ysfphUXsptqbqEQhseHmfiJ6e38hJcA3lAfTLQ5jNzM7f0yKEnQk9vey3KW2AcJamjQLtmBydO0qlGWfshCUWp1mSucTTMvt55OTfvA48OwwUJyYXkfHrKuTrN6-9v04Q9P-KPiYz5jl2F8Fo3EXqmYqKcepnx1J55URBEMrdXN-6DBj4Rhy_EjMhcBTDb19YNWlgs=&xkcb=SoAY6_M3G1R2pFwHhB0JbzkdCdPP&p=1&fvj=1&vjs=3', 'https://in.indeed.com/pagead/clk?mo=r&ad=-6NYlbfkN0CFSq8f_VUyHBFZks0o_4P38wARhnL91RLnZYMJBy95Kr88agF6mhAA-eL0qVl2wJyIFaGvEdYPSul8ddhpwewJqhsR7IswY81dFCjrutcqRiU6IYq2vqKAMPE0GSrCjpsCj9705UI7I4o9kIglY0WZrs3lx5tABSbwT1gbQAPdn1sfGto_RQAOVHunP3b9G7Pp94Bz5hmCdmUty0l_RmmtdF1OG4zq5ufm6afpk-0SltWlszajeQ4Yw1m0zFxOnofjPBVrLF4gfLgggUDmT3rRd2eVBo2fI_CfOlOP22LuXCPNgCOzFVeeyriaZMvOzfZHCcRKVO7sTLQDuTrbyiDwRalp9GQFKX5kzX4liPaIUIEJteyP6HdaVWGiDCeKYpSixNnhTjez3SiwhDY7NHgk0atUFV41kVIenUVPNZQXLScaV_1kZPpufxs2ImZJgx7MZqZBt3sBLbW37C0Su7HKJSSb5wMBubq0vXfJV1IqubWqtxzagY0NBx200K_AQLu3xwA_2BdwIUkBmX_UIxviOc1c9g9GU9OUUDYIdtM892nJVDlnlKRaH4vrULb8mxZK1DhZFTVYjnLabTcN0mqtSR1sUo5qPHeJ0MrH-zrKjtNnSH3gnV6h&xkcb=SoCs6_M3G1R2pFwHhB0IbzkdCdPP&p=2&fvj=1&vjs=3', 'https://in.indeed.com/pagead/clk?mo=r&ad=-6NYlbfkN0COdlCVXik5s_zAqZPzR-Hu6ju3HrViy8VanpkFINJItBHtx-MMn5zXEb92PStoLlj9DIYAMyFmTseCLt6ma_xB2ibHWzy8zTDCBprvVwWOo-QeOBTrhlrUA77ftEO3c7IK5J_gTmu7R3lpdPX0s9ZcqWLfHLpwGZJXNJBtnBVUJ-6QluYjbBn3ExHhDbPggmm455SJiINu2rbjnWCsst5PSb95CtFsrTgCnBDEm8EAlnXKOg_Ci4ikLAI793CZ70kcQQEz3AY9iPKMnmbbjLh7iJI0fdDluv0_cJGRV2HqPHAmr_WC0iWFt0licMVZVlE3t6yTjt6f_Rt2n7z22qRagYg9u6GsyM8f40DV-sNw5crJR1cFbc1FiaZJpoguVe3WJHoiGwU24ytxalNGB83Iy3cgvv-af_fB-T2eYH0X7fSign-keFbQsxQjwBlHeSpobw6jIgYHDtnGnmOaxZeN9tf1-0OvazZFpPP-n8a1wR8Hf3JTQm1pedK7gTklTdh7RMxiUqpcVqFFKX3xdQd9HazkmwbpmgR2rE3vh8d7OcgDR884wt47PuiFFsnuXfgE5qSErcZAh2n6Dr9kR7CFJRs3AVXlP64=&xkcb=SoAi6_M3G1R2pFwHhB0PbzkdCdPP&p=3&fvj=1&vjs=3', 'https://in.indeed.com/pagead/clk?mo=r&ad=-6NYlbfkN0CNzRKNSVgnP-awBOV7yV09ubgc7YHnGd1YfY0_aJP4wc6EJ53ARwu0Z7qJhhSoa7EO0ZW4scDI1dDqSThhOdhVeObC5hLHRzNbAAfOgHsmWDTyitZ0tTtJZQpKzZg7jvVzGoiEiuV_t15nR0rk4jMIlUb6NXElyWzFCDNQ4gg2kG4np68eQIzFqFCSDsCj-U89Gdh8efQgY6he5tKxO_3NGHXGULgyV0kF5wYl6KUddUVcEMlAXhj7sXyCdkUBgstvTy_5-qZQZUAko-b_Jq7joSBv3_sAkV2jkxWh7piAovDuF7jgsOnDhDFA61WIF63jWmFIgNdu5OW-8RzcrMhtFcF3ceD_GLQnaXBERBsKVXiYpRh8s9yPSWX08KQAoFcqs1-jvAoEYD-cVXFeXJ6VaB0G0SA2_pePi07zFj9R8c04GhKfBcaOcQbyFOCY0Imq-JdNZNDKK-t2048pDB11zkb84wXezkiKvhCXLn81dkoMT3N3f4fR55VmTHhPMaIhBpfdPu7zm5BH_NuTVvBna0wYo9Ffc5QsTePVTbOhxA-L1Suwuemf69UgxFlZltf3t6juEAyfdPPkJsP1bv1-tqj6CmzW3grENCF-Xm46uYD__Tzli3jqSSlu3Cg3hmq01MGKDu15d55ZHOs6TeH9cYtsfzBOkv9X4IA6uTupyA==&xkcb=SoCW6_M3G1R2pFwHhB0ObzkdCdPP&p=4&fvj=0&vjs=3', 'https://in.indeed.com/pagead/clk?mo=r&ad=-6NYlbfkN0C3j_zLGvpMLCdiZ0WC46XqVTA1VMZzOzKXPhAXwYlrNR2M821dYWEuCwYREswJhDFHFw6G-HRorbpl3LpPK1iNpsrrIgd8ZzX4RAPoWY-un-9rKi269EIWspW-tOiIyR5P2Gnc6Q8C4p-T6xU1Bp4nH0Y_Xozv3slakpK48kZHsPdus6nsy6Js4jSedogG3sDtfojpOztPM1XAXNjeeZ4K9jr7g2ipg_xDPBY7INb9J74uI5naCAK5_2Va4_KYnTO9n6dKarBaUAhus-jorABRi5tDlNdGFnNQk9ujm4kDA6jauW-CkeD0k1A2jOMSI5-rwYeOaABayoe0Nk1iSwIVEG5of-ah5mDfiUHf4TUoKbWhd4cvsZryDjLX2VVdq8_FAHDf-9Qdi4o1Q6dJFkqzUoY3Az-kq6JevU2_CJbX5KYOu1IGOUhDSEeA-VvXdM9tFlzHgN5KRN-9KrL2603BZWHwEJLHR7ADeUhv360pUNbpS9uZUZaTXDTqinSRYqMNzxkImE-bz2NiSSQJMFMYHAmcD1oE4wq_oUFYJlE6RGx2uJE5HxcUEtQwztuAcRBshMrgKZ0yrMI84yWDPJ_7yM9Cl75hUVpGF2XT0ecrQ9HsMXOll0qHcbX4OnT4L4FOcEqSMSXaR2iPtagP0gXoHx7W3V4IWSbYPQyLuhnPH4Nv2DWvYfAzD15nN2F8PFdz107O9ZwsGYgVj_cwSXsZxMOlXMiozofAudmUMgxzyFDu6Kx5Ak6uvU5idx-0s0dsLB0hWt9H02vgE1KUrCEtF_pbGNDe2NY=&xkcb=SoAL6_M3G1R2pFwHhB0NbzkdCdPP&p=5&fvj=0&vjs=3', 'https://in.indeed.com/rc/clk?jk=922a01bc2221f840&bb=S_CFLmwLAm2GarITWjWBViMuneepXLY2DUPV3rTxhWUgB0JA2AMyAM49c0XNMOz1&xkcb=SoDe67M3G1R2WrQHop0LbzkdCdPP&fccid=146443e77d8c0778&vjs=3', 'https://in.indeed.com/rc/clk?jk=4cb34b94a75d6a9b&bb=S_CFLmwLAm2kyPfcCJgoA78hq5-ZZItmkWHr2GWS_4PuXcHTAzdvC0iw7MyzOqCN&xkcb=SoD367M3G1R2WrQHop0JbzkdCdPP&fccid=0e7e89826eb84cd6&cmp=Majesty-Techsol&ti=Python+Developer&vjs=3', 'https://in.indeed.com/rc/clk?jk=5bd70e451270cf4b&bb=w5N1VGFoJGkC2kx4h-buSDlw2yotoKnb1SPDAvMA-U8T6gB1H0wCcoG5WQmrNmJB&xkcb=SoAv67M3G1R2WrwHop0KbzkdCdPP&fccid=1fd1b58af3c51aba&cmp=Vaanee-AI&ti=Python+Developer&vjs=3', 'https://in.indeed.com/rc/clk?jk=949d3f417668da20&bb=vOJ2rtNkGe4wDaLcKF24GxIZ5-EM41K_kHeKLyxGbXMfzBzu2zD1-Cg4gZErXpn1&xkcb=SoCh67M3G1R2WqQHop0KbzkdCdPP&fccid=58c732f14833248a&vjs=3', 'https://in.indeed.com/rc/clk?jk=880be1ab2abdb9bc&bb=vOJ2rtNkGe7fHn3_sKMmXShx3YWDIrZNlYMJdM-UtBFG537yOZ6sokb5vMcNOupV&xkcb=SoCy67M3G1R2WqQHop0ObzkdCdPP&fccid=9f0f5cd9e74d8f4e&cmp=Miles-Ahead-91-Consultants&ti=Python+Developer&vjs=3', 'https://in.indeed.com/rc/clk?jk=5a61fdba828e98d8&bb=9sXRzwvPBkvSsvesx9AjVxs6PWPqpPnChKjEeNoN8cV9FIeExCnXq2rGcy38MFGM&xkcb=SoBQ67M3G1R2WqwHop0LbzkdCdPP&fccid=0e2f08d304beb5b1&cmp=Uplers&ti=Back+End+Developer&vjs=3', 'https://in.indeed.com/rc/clk?jk=842eac34ce8e1756&bb=9sXRzwvPBksuG6OX09z0goFJ4CksRsGlL7wLO2wEXgIrYuQgD7D3aHXKQDNzw25_&xkcb=SoB567M3G1R2WqwHop0JbzkdCdPP&fccid=0098b51334dc7c7a&cmp=iXceed-Solutions&ti=Python+Developer&vjs=3', 'https://in.indeed.com/pagead/clk?mo=r&ad=-6NYlbfkN0CNzRKNSVgnP-awBOV7yV09ubgc7YHnGd1YfY0_aJP4wc6EJ53ARwu0Z7qJhhSoa7HMCcr0_6cDUYBN4W5YAH-z0mijqQFia7H3-COhgvY9CQ7vhKUq6V1vrGlEfmLxajC8UJIm0i8s3UR6fR5wd6oCzI4vX9mVoqfve5_CdnoXOw9lLegaYhCwWBblvP4xz5v02B3c_k2NFr0PzOJCWJ7V-_rRKZD4s1F3OaxpBu_SMgky9keZxLfN0LQO7OEx4qZEntLyp-wgbSYG-7u4AuJ2wSysyQEDGcoU5NtF4sotFd6ysN7IICS8gjhuiTnf8mIhWPYwmUfqyXqwQmwGUrWWnOAHbon6Kw-6BCNfbrQHYRqF1EbeN3bK22WVCTFvqBYvJfbCNEs5j2o6ywMocwV8cCI1PZGHE6FgQvk8f28-3NMmy-SSVh6Co0RvL1jSq3SHb_n2xZ7seWMeo-Qu1tkmtsk9hSNt8zsXwCzf6sPFBISj7S-q3G8vhk9Fq8x50XffWlYPwyB8xJj_iWdu8ry8VU49y8CN9M3q_zwmhUIczv-7oM4YaoX6l3efrYFxE0MTxoWnwc_4t3jLckPnzqkJxf8GKx5GLQZ-GUU2_q284HNIxqEdVcW-zYgwaLbVk2egaNxalTZ6ULCHq9fG9bQxya-4f37Kh6B5JEjR_9yGn2_Tx4QGDHmm&xkcb=SoBs6_M3G1R2pFwHhB0FbzkdCdPP&p=13&fvj=0&vjs=3', 'https://in.indeed.com/rc/clk?jk=d13818693b3baec4&bb=wFProQSDAZAisuWQb3VNMltxlzrmoUsRTY74KtM3YwouymepQ1w24drZLkjccKwY&xkcb=SoA967M3G1R2WVQHop0KbzkdCdPP&fccid=889d7b80bef81e64&cmp=Book2save-Pvt.-Ltd.&ti=Python+Developer&vjs=3', 'https://in.indeed.com/pagead/clk?mo=r&ad=-6NYlbfkN0BdkRqoRBllJ3ABBfj5Fwuh4mkM_IbFmVz4qW6oqmasiKwSJy7uXCuCnXnUyLvXm10yTe9BLdEoNGdyosK9BGtOFYwqQ-mLZ89v9g9f4qjujqcAhRsJUlwUYOmf3WinzxT3dn_cYgCKgP_0Jj2ylNcixGmWKl2wzXyhoFEglp9CCMMbP5l32d_6_3N_n_hZONiuEMXe3om091pg29F3ULSJKLztcwacv1Wgar31UaICwQpRxOsubh21Xn1OQuZC1T_JTvquy5HhZKEvcbOU3HKAdEjXVNZ9wK4_p84mtzqeGVwitGEuIdkBTYpfmrW6ST-Vt3r2K4_D6ZZXioBm_JHEJd56r--itS5o4HLtn0AFdDdNlrqyV3NpYy3OzFLVG3itFbF_i47Z0h1MtpBrH-VYEGp2BiOgeOdSHNpbNioJFh72N1JNaQsEwkPOM-RhqlB91MD-qyKmy3zZJb4qxFwOFv5t9RTM5HBdvn2WoI0fDR0imFfD_cNB1wCzwo5GTLiPmDaXR_WASb88gVcq7HOTuFgia_DdBmzI8WtCSOAkG5rje77WDWsZiQg5Sp1zZhglzKcUzp2ViqDAE9-AQ7Ah4em7qA6OPE8=&xkcb=SoBO6_M3G1R1DWwsdZ0LbzkdCdPP&p=0&fvj=1&vjs=3', 'https://in.indeed.com/pagead/clk?mo=r&ad=-6NYlbfkN0AbBWiNn4U3TqErPbaJt3RaraPXZx3F8NJx3nQOBGYwFUsd-nxMjKvAtUvCbtsdo-6Tjill_Mr4-9Hgjd9lk7-lYrOpV3Hwo1NPQdDEAEyopLrjyvpi_p2_dMe2uhyGxyOT7wAPgwrN-y8GdqW3_sSYE3yTwAiTy6S9FiSWBK5A8ZRt1oX2iOWaQR95XITOXD79UfDjlL2wFwBT0jBfAVuRPpn_BkXVvBIRa-FvH7bGxSKvTIEvsx_kDIispMHbs4SUpgDNh7CCC7gZD-Kez33G_5vinmmOhb_fVPDhTa4meAijLNUlwUdHVaEuCeBlQW4FlwgPUiMxKXoCmL8dJcE9X9xIXUy4fKDtxqTELq_DVCzkRSal01_TxnZo6WTzBeo0fzkJMg8D_XZWS7uqLL44yXEPgSHxyMkKPVrvfvr9nQ6lmMaP5Rxfbj6SyAskcU1c21lIdLSk0hPGCCr8PiKrsOfgKK06jLYqgDI8XEJ69C8O4d6OrHVu7wYM4iGM8jBa-4JTx8KMiyWgeHEv1ODUdhdjnuXhDKPP8-EA31cyxJ2lrf24WPIzPIxznanAyt_LX0ETNC7R87-pUgrRDZEFb1QR2K9regr7eIKSDW2Oh99jFb_KHE3LkQQhLbHAwPs=&xkcb=SoD66_M3G1R1DWwsdZ0KbzkdCdPP&p=1&fvj=1&vjs=3', 'https://in.indeed.com/pagead/clk?mo=r&ad=-6NYlbfkN0CFSq8f_VUyHBFZks0o_4P38wARhnL91RLnZYMJBy95Kr88agF6mhAA-eL0qVl2wJyIFaGvEdYPSul8ddhpwewJqhsR7IswY81dFCjrutcqRiU6IYq2vqKAMPE0GSrCjpsCj9705UI7I4o9kIglY0WZrs3lx5tABSbwT1gbQAPdn1sfGto_RQAOW-j9rMHsAU0b0PQNMZeyDQv8csKZZnmoRzZeP64u3aep9pZiYZOf0El4bqmYC85YZd_BQBkRRBZP_e3IPejMMtrGli1xS_bJv5SiOj_cn4KDj2YT3R_TMnrsZSNIMesdXPCG9PdQ3fM8bJVu4Ay3fwHkndGQZgG5dbIdvjVMv0zWLxYquvs8ZplB_ZD0gohzN91zcEHnw0Ifsjxn9WA3I5OdfkZcFz4dznXrJUykquHcbcYj2Cr0Pzu-Tp3VWY3YqwXk1MwqRw9eV7kmb2KcxPU3UluVZaLWefV5VAOtNOTR0kcTRkbuaNJO90520nf8FA5gfGXaRicRMtAVEcb0HLZ7BP2BdCGL7mR-gYFEHRlEV154om1eaKrnOGr2ZIEXDtCpzDC-58c7HrwMzNDm8vh3R-FrxDg1kRAMNxmkdETHeoeh_f_bBhzMIakSWE5J&xkcb=SoBn6_M3G1R1DWwsdZ0JbzkdCdPP&p=2&fvj=1&vjs=3', 'https://in.indeed.com/pagead/clk?mo=r&ad=-6NYlbfkN0COdlCVXik5s_zAqZPzR-Hu6ju3HrViy8VanpkFINJItBHtx-MMn5zXEb92PStoLlj9DIYAMyFmTseCLt6ma_xB2ibHWzy8zTDCBprvVwWOo-QeOBTrhlrUA77ftEO3c7IK5J_gTmu7R3lpdPX0s9ZcqWLfHLpwGZJXNJBtnBVUJ-6QluYjbBn3m9qRFPVA3gag1Ex6ZvZS9de14yPvO_seOG5raEApQQp6ppcXNV41RZjRqBmm2hSB5TEHkkwmPzulZoF8lRej_PAysGE_oFgFrKQfjNebJHMYXZBnIncZAVQBUQ_yePd-95JlziR-fay3uKx4qu6_RbdLC2fPst4TFWDD3tYq73eUVkIvAitpHGFgX2VN2r6ixigAmZyWKJk43QEJ7YK0J3z9dCyKZK-CRNhysDAfQ0HpnUuKd6Ib_CUJBSctBuOS_38QzPFQb4oqWWcacusPM75ZQFFyVmDycmW75oN5zo3UaEKWpJy0I9ue8r1Ao7xrQFN_WrLyyYTPp6UNB6QPDVXBZSLFsF1mb5r7qWrbFaU2_m1-Mopw6JCVaFQxmW1uZtB_rlWHF7ttBH_7WLZkz-HlM0hHJ961yFSZP_t8IPw=&xkcb=SoDT6_M3G1R1DWwsdZ0IbzkdCdPP&p=3&fvj=1&vjs=3', 'https://in.indeed.com/pagead/clk?mo=r&ad=-6NYlbfkN0CNzRKNSVgnP-awBOV7yV09ubgc7YHnGd1YfY0_aJP4wc6EJ53ARwu0Z7qJhhSoa7EO0ZW4scDI1dDqSThhOdhVeObC5hLHRzNbAAfOgHsmWDTyitZ0tTtJZQpKzZg7jvVzGoiEiuV_t15nR0rk4jMIlUb6NXElyWzFCDNQ4gg2kDDXFSl9EeEZyW7w5muqi-InxvW0MXXsS36QjKWRxlk-9Stgj5D1-0dfiBhx6azdP_AEnpEizQdb-D5TV6KafMXmV0dD9wi3yZEf2JdzZVTwDIxHWdGNIr4sV7dSLOf8dHVSuzGdsCfWfG72c2gCDfSbCGPs7ZEqvsOIr6VwEkqYuxsyiKbfiT8PJdBBaTSNzzuSI8yExZHOQYWZhFymHYP7df49wCxiUVFaY41qPWumExcT_xQBnJzQSMmESnNK4CYhC-Xw4Z8i4oZkDY2QLUYu2VeOgntMDaZcK6N310-OWBo_-PZrhqDdZaxERuYsshR_NgRlkcW-dyvCc-t3JXkSxxynNDURt0sDAp_MR-qqd5q-aRpsR60uO9SEplXazS4gEmYNckFMlewr9SFRqVlXM-2Lrah1NZ2VcJy6WENYO4i91yEhpUOWbp53PPdCFdpQANzs14hMoM3aOUBtQxYpGaGQ93pIciRBUixQe1d3Y1kwqYYFegywk9uG47Mkfg==&xkcb=SoBd6_M3G1R1DWwsdZ0PbzkdCdPP&p=4&fvj=0&vjs=3', 'https://in.indeed.com/pagead/clk?mo=r&ad=-6NYlbfkN0C3j_zLGvpMLCdiZ0WC46XqVTA1VMZzOzKXPhAXwYlrNR2M821dYWEuCwYREswJhDFHFw6G-HRorbpl3LpPK1iNpsrrIgd8ZzX4RAPoWY-un-9rKi269EIWspW-tOiIyR5P2Gnc6Q8C4p-T6xU1Bp4nH0Y_Xozv3slakpK48kZHsPdus6nsy6Js4jSedogG3sDtfojpOztPM1XAXNjeeZ4K9jr7g2ipg_xDPBY7INb9J74uI5naCAK5_2Va4_KYnTO9n6dKarBaUAhus-jorABRi5tDlNdGFnNQk9ujm4kDA6jauW-CkeD0k1A2jOMSI5-rwYeOaABayoe0Nk1iSwIVEG5of-ah5mDfiUHf4TUoKbWhd4cvsZryDjLX2VVdq89q8rSum0xaxPKQ-Mg3IpmhzztGSUGuwkhPNaRJwCeoSD9DYzhaS_S6sUA2tzRXd7b_6eaU-qLka_CKmagPzYiCHcI_rEjsLPMoZ-fb2t-tS_v4wZo77GMl8PcZkzbPxXv75VatZ9uZi6RrbJySp_Y4PLFqCSil5HkNFLWsvkpcUmoP9pLXGRb8YEM78pw7nZkg_kmAD7t22LVQEE_wU-AN5oM1iDe9JXfWCZQxcAHjWp_QVKJsvrxK3JdgYl5zQ_GGT2wuZHmliFotri4aS9WVK7nX9PDfaS-gnidaA8FMyW_aOTL87MK3kGaLDQtvPC1fhlcn772o7ei1n59E-xEkO6oNva2XzJXmXYkvtVdYhzvLezTBsLscFlJhCtAYb3xCcg0AjCmdbcG-OwDsUQT1yObb2hIxSSY=&xkcb=SoDp6_M3G1R1DWwsdZ0ObzkdCdPP&p=5&fvj=0&vjs=3', 'https://in.indeed.com/rc/clk?jk=922a01bc2221f840&bb=dKCJ1gObbqQzZty0Hc4loMYhL_ByX_nzJ6wFwoPqCERkdMAdKjsyf4RJTd-Duqf7&xkcb=SoAq67M3G1R1AUxr8x0LbzkdCdPP&fccid=146443e77d8c0778&vjs=3', 'https://in.indeed.com/rc/clk?jk=4cb34b94a75d6a9b&bb=EZ_dzhDXwSzlxrN8OgsnsJT2U9Rsrwt-mMQls2l3CZvtcQYPCgyDtdfBJ2UL2TSi&xkcb=SoBz67M3G1R1AXRr8x0LbzkdCdPP&fccid=0e7e89826eb84cd6&cmp=Majesty-Techsol&ti=Python+Developer&vjs=3', 'https://in.indeed.com/rc/clk?jk=5bd70e451270cf4b&bb=EZ_dzhDXwSwiTkhd9lEVTYmcWX0ykpRHdJTjutwwre-lsucCzsduMmfqU0BwVJdd&xkcb=SoBJ67M3G1R1AXRr8x0NbzkdCdPP&fccid=1fd1b58af3c51aba&cmp=Vaanee-AI&ti=Python+Developer&vjs=3', 'https://in.indeed.com/rc/clk?jk=949d3f417668da20&bb=T69lqFsFNhlLM7Clb8sTXP7SBbK1fU7AA38zng2wakeRAQJhMJXP8gyXQQUCskUr&xkcb=SoCr67M3G1R1AXxr8x0IbzkdCdPP&fccid=58c732f14833248a&vjs=3', 'https://in.indeed.com/rc/clk?jk=880be1ab2abdb9bc&bb=NbvshVBcGzceL9N8jhHPziqTYJpTL8XFC1lUZDp_xId37lHNy3JmewrZkumezjxO&xkcb=SoAM67M3G1R1AWRr8x0KbzkdCdPP&fccid=9f0f5cd9e74d8f4e&cmp=Miles-Ahead-91-Consultants&ti=Python+Developer&vjs=3', 'https://in.indeed.com/rc/clk?jk=5a61fdba828e98d8&bb=NbvshVBcGzejWo0xx5A7IxYdyTVK-l1IvE_UwX9ttcE6VjK70MjBPtiz1Zpg_YaF&xkcb=SoAl67M3G1R1AWRr8x0IbzkdCdPP&fccid=0e2f08d304beb5b1&cmp=Uplers&ti=Back+End+Developer&vjs=3', 'https://in.indeed.com/rc/clk?jk=842eac34ce8e1756&bb=qY3Ik1jYlczqhBARgsh3VJhWfo78ryLPcyaKOXMwPYijh3hxZjWfzqjLMKovmfor&xkcb=SoBJ67M3G1R1AWxr8x0KbzkdCdPP&fccid=0098b51334dc7c7a&cmp=iXceed-Solutions&ti=Python+Developer&vjs=3', 'https://in.indeed.com/pagead/clk?mo=r&ad=-6NYlbfkN0CNzRKNSVgnP-awBOV7yV09ubgc7YHnGd1YfY0_aJP4wc6EJ53ARwu0Z7qJhhSoa7HMCcr0_6cDUYBN4W5YAH-z0mijqQFia7H3-COhgvY9CQ7vhKUq6V1vrGlEfmLxajC8UJIm0i8s3UR6fR5wd6oCzI4vX9mVoqfve5_CdnoXO-hHcI511XhyWwegAp1a4T-jjiNCZ_PedJt907C7iiRj-HfE9bl0--A6T5hWTcBxeVXBGZ3XoL_HeQpHSPx4uio7PcDDn9idT1LyzN_QHAGciIhS3IcPrDy7Nw4thal1co80PrfPi7UmNp104Mvfwl5u2vuisAKYJXJD9eT5MP8U646xv73vJjovGaNG_roC_HEAwZbGHw14nsIP0pNIkKEVz5R1WO7ZhEail9TahZqfBR1Xo12ZwF9ZL2QbwZEy-_yAac36z5Ptx9AQRrbHUN7wP-CBR2i-Trz0OfgkUmy221YnAsi4NIcLn11hwRN2D3VhZtszdDIhDBvdzMxp5fYaLpKUGBM480oWxWaB4eQ4x4LwQaNF2ZkzEouv1io2WPvMYQ9GfUASeTQFQEUmMvho7BlOT8ZfhctIL1uauvL6IWIfu04r7pmhxwbbHwViBTYV6upmtkZdQHtjT_bQ2e3yO5g5S2iUcRsJt8uZNviTpB2Dpw9PQrm4mDcFlHLDox0ogN1qIezp&xkcb=SoCO6_M3G1R1DWwsdZ0GbzkdCdPP&p=13&fvj=0&vjs=3', 'https://in.indeed.com/rc/clk?jk=d13818693b3baec4&bb=3mpLFShXzMYAznmuP8iQpmtQE8aJoJ4XylUFKQHYEDnbvBeozNTd66Xtz_mSA7cI&xkcb=SoBL67M3G1R1ARRr8x0LbzkdCdPP&fccid=889d7b80bef81e64&cmp=Book2save-Pvt.-Ltd.&ti=Python+Developer&vjs=3', 'https://in.indeed.com/pagead/clk?mo=r&ad=-6NYlbfkN0BdkRqoRBllJ3ABBfj5Fwuh4mkM_IbFmVz4qW6oqmasiKwSJy7uXCuCnXnUyLvXm10yTe9BLdEoNGdyosK9BGtOFYwqQ-mLZ89v9g9f4qjujqcAhRsJUlwUYOmf3WinzxT3dn_cYgCKgP_0Jj2ylNcixGmWKl2wzXyhoFEglp9CCMMbP5l32d_6MNapi65311ZpgXqx5iQxqA_hx6NIh9-XsNBA9RAnxVzd6QzDS0wISrRdh7QZFNnlGdfTMOtIaAIzaf0xVi3jfRSf4ihwmiRvZNO3B7IfJhI4o_lSiGUKj-AgQvjj5idYDBE8KXkgZKvglthMkFfyNrbIW3JXcLxCd_8P2irQwmc5vPKVGCnaHjIH9fIyG8YVxNhtIy9sJ-la4FXAta0KJBCaATZPgqgTuhs3-gopwo84C_J_A7eLUXUYUs0XSZ7nEu76TwbzTRcRQmkNemcncYjSOoiPyaggIpYJnwuCOv6QIpWSWYAongNna-ZlrtH6zFCrtyJnLGyGyK_rxE5gBw1H_GwMObXBE7aHnGPdCKmPOSfTW-S9kYTAZT1k1QwlNR38PJBhZjz0_oyDdxd4rSKYD1JF9u3qtgXn0wVUyn4=&xkcb=SoAQ6_M3G1R0cwwHlp0LbzkdCdPP&p=0&fvj=1&vjs=3', 'https://in.indeed.com/pagead/clk?mo=r&ad=-6NYlbfkN0AbBWiNn4U3TqErPbaJt3RaraPXZx3F8NJx3nQOBGYwFUsd-nxMjKvAtUvCbtsdo-6Tjill_Mr4-9Hgjd9lk7-lYrOpV3Hwo1NPQdDEAEyopLrjyvpi_p2_dMe2uhyGxyOT7wAPgwrN-y8GdqW3_sSYE3yTwAiTy6S9FiSWBK5A8ZRt1oX2iOWaBTH-Lol2Wg3yC_oxRwrem7Bb6M-cMozPvURDZxgvvko2op9o9PFoKSMaZGQyAyuFHaMBzE-co4bdg-RTQtvXdm5GjCMQjlhDHvqnoZU6b4NcCEN-caUeVdjrPRj51YJVqauIZPKr0_FQJQdn-sYNeV38xXEZwg1XQGUgAkE8WbDSMUZDMOZXs3y4AzaAuYu1WprU62WUL86TST2GKlmFIdaFYq4xxauy7h7QojwkFmYA3WOJ4qheXUimX_3vUF2YZFMpHa5j2S1Q-QSfUqzq8rRjkz0afIlTAJZGTm5gwgus8EQdcOwwQnpYNAgFqo_L-ie8faQMVu8Rl6Q_i3TH-isAePAGJ5w8dghQExE7pWdbvnlXuGJFqwjzb--RJUkXv4TRJfqSEs5AbfO4L9S9OVrL36R2rPRMNLl9oNp4StZtrdRAhrFDWgRLjHzDjVs1a26_zmPIf7o=&xkcb=SoA56_M3G1R0cwwHlp0JbzkdCdPP&p=1&fvj=1&vjs=3', 'https://in.indeed.com/pagead/clk?mo=r&ad=-6NYlbfkN0CFSq8f_VUyHBFZks0o_4P38wARhnL91RLnZYMJBy95Kr88agF6mhAA-eL0qVl2wJyIFaGvEdYPSul8ddhpwewJqhsR7IswY81dFCjrutcqRiU6IYq2vqKAMPE0GSrCjpsCj9705UI7I4o9kIglY0WZrs3lx5tABSbwT1gbQAPdn1sfGto_RQAOYzq9l7o-7fWEZOaPWYhwcxxQBZtMFKD97syetxxfRJm56mL8dDdD2_ElmBR7b15BD79tAostZBFfs1mynzS1uxLUgPq6TkX2ffzHPH4ivfLZ6fHkN6mdWtVFUxf7yqFS8rckmtJ85P3HSejGjGxKYgOrKkdJeJj5Iz-VKFnuPGd2JwZ0GOVzaBdsrOVg0su3hiU1Haxg1sozIeP1kfhNqpVov8uPKIHOddkJ8p_Jbqvx53-4dMe9lqQRvqMHddzluBWj2Z_xLhKrMdzmOE0hVnUGfMv3CfpAFQQNWQSewmuIFgVJxYh8pgBKDI2TBERaarR5j9Gf3slEHGYGgqtS4k0OR5HX5k6gVApBQPr36piLpIq2vajZhRtkotOegaK97IbvfZbBRI9g3LIxCLIIZY-yrwW42iaAavnBLat_C4vz5s0uckoyAh7JMinllI4v&xkcb=SoCN6_M3G1R0cwwHlp0IbzkdCdPP&p=2&fvj=1&vjs=3', 'https://in.indeed.com/pagead/clk?mo=r&ad=-6NYlbfkN0COdlCVXik5s_zAqZPzR-Hu6ju3HrViy8VanpkFINJItBHtx-MMn5zXEb92PStoLlj9DIYAMyFmTseCLt6ma_xB2ibHWzy8zTDCBprvVwWOo-QeOBTrhlrUA77ftEO3c7IK5J_gTmu7R3lpdPX0s9ZcqWLfHLpwGZJXNJBtnBVUJ-6QluYjbBn3gzpeL3hYTgGe7mBOPyDaeF84y6Imv-dDLSxXyWxNfhxOy5lfkdxmTkS2q7OlaJ_PjTIZ2yyjbxOeMysAwHugKGfyES7eVNsE9o5Vkxd1-cTDRJfugp-WyPe-EpyvTDpzqhIwpuG1a59o01ibzUGKKvSg9XYy1RRQ0Iu2WC3qdO_LKKFHneTWMjcaG00pQsXgYghwbOqSFEuXQlI6BpIp5uul_eJ3eQMz96JSEsShUzSsviPPtkyZlcegyu3w-TZm7fFlKxya9i9Wg1HOlUdd4HriKuX2MOmHMIcln_S0wAjIWQ75krj6lkP6rbvewTj3zVJvPkVd0WawJRUwENepNSrG9_NHKMnoGW8ALNL14XYvOOCQa8sy6VmcfLoS_yxgrZhPH4qOOKN_Ku2z41Cqo-VX1nhSWkvtZ21DoiDirPg=&xkcb=SoAD6_M3G1R0cwwHlp0PbzkdCdPP&p=3&fvj=1&vjs=3', 'https://in.indeed.com/pagead/clk?mo=r&ad=-6NYlbfkN0CNzRKNSVgnP-awBOV7yV09ubgc7YHnGd1YfY0_aJP4wc6EJ53ARwu0Z7qJhhSoa7EO0ZW4scDI1dDqSThhOdhVeObC5hLHRzNbAAfOgHsmWDTyitZ0tTtJZQpKzZg7jvVzGoiEiuV_t15nR0rk4jMIlUb6NXElyWzFCDNQ4gg2kIujZQd6x7p_EgsZIcXpTDt4MlyUZXLWtvWayQ10TC3_Y7iDN9U9J4T2-jr-dv_KcjVFfT8BQGTS3QDAd5t2xIhiNiRfEHYoiSi6BXDk0xtAMar39R7_ZmTpCZlWA7ZIPGOzvRs6AleMW1hhfNnyjM1XyQLnI8wLtFUqSL02sNvi0t5G44MZ57ZQ96STYpSISxGv8dS4TLoJYpn1sq6GKvTXdZzyIrTravbsJwe2BISFUf8rrGY5FhZV_dTllWizdHqT2XzyCkBi0Z-ejhrzfnKN-kfUc3qKJfHZqAhDSSPhbN2zW-FnOiGbruNXV_Vic-gpjwe9u0RWtg8SnYGm_77nNpVh8A_9hiVzkGRG8Wj_6fo11rcVc7OmnsdOYjYAqGlvrw7Y1B1Ekwr5Jgb53Z_7eWJ8p63XPmpwP49JT2zomwoSl-xMqsF3LPbBb3ZWGmlKjE22A0Q66UypjOHEjCljEG9aa9ogcrzUOhZ4cBhQR_qjF7lCE1jqQvA7-MpCdw==&xkcb=SoAq6_M3G1R0cwwHlp0NbzkdCdPP&p=4&fvj=0&vjs=3', 'https://in.indeed.com/pagead/clk?mo=r&ad=-6NYlbfkN0C3j_zLGvpMLCdiZ0WC46XqVTA1VMZzOzKXPhAXwYlrNR2M821dYWEuCwYREswJhDFHFw6G-HRorbpl3LpPK1iNpsrrIgd8ZzX4RAPoWY-un-9rKi269EIWspW-tOiIyR5P2Gnc6Q8C4p-T6xU1Bp4nH0Y_Xozv3slakpK48kZHsPdus6nsy6Js4jSedogG3sDtfojpOztPM1XAXNjeeZ4K9jr7g2ipg_xDPBY7INb9J74uI5naCAK5_2Va4_KYnTO9n6dKarBaUAhus-jorABRi5tDlNdGFnNQk9ujm4kDA6jauW-CkeD0k1A2jOMSI5-rwYeOaABayoe0Nk1iSwIVEG5of-ah5mDfiUHf4TUoKbWhd4cvsZryDjLX2VVdq89PIfavQl3JyUOJi1Cm26d4V2CzqOGaKMDdOcaXpiXa4xFlVqJEOXPpUfCnlqPH4Rcg2ypPkPp0RFGLZkVE5V8VwWP0RLbo2S_WyjL6ZWG1r13ZO_zJNYZ59Fao9qENZI48eameSRN_I0BzV6Z_ygbe1XUHImyy4GBeBCMSeqTeX2Ap4piZQu6B0Oe2PP0SCGi7Mv1UgMPNhm7AjWPr1wP1WdPwepcL-55lYfzPq-YX8MmLEwi1yN7TfRREg-8lp1lOU4TIUeyu3NyFYP7m0Qe_bIxg_k_XGPK8KtBsoFB_5nOUQmqSkXdjldGrTy1OtjpNqc7g_bDLuYJRGcJD1fO6IfUBIz0EN_64_Njn57J8b_zzyiMQcZhrsnbpguL5ePsyzDngwZ1DKYVsuNlLDfb91FblO17r47U=&xkcb=SoCe6_M3G1R0cwwHlp0MbzkdCdPP&p=5&fvj=0&vjs=3', 'https://in.indeed.com/rc/clk?jk=922a01bc2221f840&bb=ppdCtE79Yb6ltEwLlsedAdqSSk0s-6vG0mbkyL4RarcVreTYXuwsyl2hQfQETdr5&xkcb=SoAg67M3G1R0cNgKdr0LbzkdCdPP&fccid=146443e77d8c0778&vjs=3', 'https://in.indeed.com/rc/clk?jk=4cb34b94a75d6a9b&bb=ppdCtE79Yb6i7pjPPz7tldzMWaluDDjzbapoNi8qBk2PyicpCweFr_XqVACJOcj2&xkcb=SoAJ67M3G1R0cNgKdr0JbzkdCdPP&fccid=0e7e89826eb84cd6&cmp=Majesty-Techsol&ti=Python+Developer&vjs=3', 'https://in.indeed.com/rc/clk?jk=5bd70e451270cf4b&bb=MSBwiptseVKAf6cFzkLQV4jNk43m848LlAO65TQuV9MboMMFIpJUi-Wr5rpV62Oe&xkcb=SoAa67M3G1R0cMAKdr0KbzkdCdPP&fccid=1fd1b58af3c51aba&cmp=Vaanee-AI&ti=Python+Developer&vjs=3', 'https://in.indeed.com/rc/clk?jk=949d3f417668da20&bb=TAlIesnVx_XCTETOMwh01EDaOOjH3jrwPjBE3t6W8cD0rQXCnpA1U8obt8uaumoN&xkcb=SoDr67M3G1R0cMgKdr0LbzkdCdPP&fccid=58c732f14833248a&vjs=3', 'https://in.indeed.com/rc/clk?jk=880be1ab2abdb9bc&bb=TAlIesnVx_UH5syiD5r25K7-53rBJWrXWlU7hi1hMvUn6l9U4j39gX1TEKu_-CpO&xkcb=SoDC67M3G1R0cMgKdr0JbzkdCdPP&fccid=9f0f5cd9e74d8f4e&cmp=Miles-Ahead-91-Consultants&ti=Python+Developer&vjs=3', 'https://in.indeed.com/rc/clk?jk=5a61fdba828e98d8&bb=RZnERehAuiy3dlVlaJ5p8PTHlXF7op3a4Agz1tcrQOmzjdHgDzD-B7A6RFLEdslA&xkcb=SoCy67M3G1R0cPAKdr0LbzkdCdPP&fccid=0e2f08d304beb5b1&cmp=Uplers&ti=Back+End+Developer&vjs=3', 'https://in.indeed.com/rc/clk?jk=842eac34ce8e1756&bb=RZnERehAuiwQ5H5Lye6hBRq68g8Vk7Bvc-KYSauBs_llZsUyWuwnx4NdgBiM-d5C&xkcb=SoAV67M3G1R0cPAKdr0ObzkdCdPP&fccid=0098b51334dc7c7a&cmp=iXceed-Solutions&ti=Python+Developer&vjs=3', 'https://in.indeed.com/pagead/clk?mo=r&ad=-6NYlbfkN0CNzRKNSVgnP-awBOV7yV09ubgc7YHnGd1YfY0_aJP4wc6EJ53ARwu0Z7qJhhSoa7HMCcr0_6cDUYBN4W5YAH-z0mijqQFia7H3-COhgvY9CQ7vhKUq6V1vrGlEfmLxajC8UJIm0i8s3UR6fR5wd6oCzI4vX9mVoqfve5_CdnoXO--jzK80vKTckBotX_TPLaNFepsPNXRFSpFmNRDogJaBGfQ4gSuBwg6vFVWMZPy4piisi0PvqacMNSTzqnHY89m8jRf_PugdjgCf4KXYox0C4FqN-pBLb2ClO4KJo95ZHKj9IkZmdWJB5pQWf2vfAdBBqmur2K-kcLc5Ni9hTNaTjNVil2OhnkN-jWeeGWC7cU8idbYmqzfB36e4VXTsTUcE6a26RffjCuP_65yyyJypi2ag2A6iA2QlJA6Ge1S0WuyqQosATpeMQ2HWjYZdAlfWIRMgm32AM55Kh5m_bdhDTf5PpPBEnV2XeaZN0KQKO7a7944iwltkRfPMEmUdEaQOZmy4sNgMYPNj-Bu3GFAGu_fWcxvPYQKnCy-SUEE-7TyqM9McnKqGQ5mlYp-1Z9F61OthCfwPM813h9NUzT75i7mVmbe3j2F4T5Me9Jsb7d8n3WkgoHw4Z_QvYHZ_uKkuI1zbXEgLqXN3trI_9V9RBV3RsX8tbGWhrsFDjbRNM_q_F_FzEesZ&xkcb=SoD36_M3G1R0cwwHlp0ZbzkdCdPP&p=13&fvj=0&vjs=3', 'https://in.indeed.com/rc/clk?jk=d13818693b3baec4&bb=h94d-Lq6Ai7tsEag_Is3KIQosEcWlcg_R8cxmfos-1vGquZXlHJZNoWSnPrCmTTR&xkcb=SoBD67M3G1R0cPgKdr0KbzkdCdPP&fccid=889d7b80bef81e64&cmp=Book2save-Pvt.-Ltd.&ti=Python+Developer&vjs=3', 'https://in.indeed.com/pagead/clk?mo=r&ad=-6NYlbfkN0BdkRqoRBllJ3ABBfj5Fwuh4mkM_IbFmVz4qW6oqmasiKwSJy7uXCuCnXnUyLvXm10yTe9BLdEoNGdyosK9BGtOFYwqQ-mLZ89v9g9f4qjujqcAhRsJUlwUYOmf3WinzxT3dn_cYgCKgP_0Jj2ylNcixGmWKl2wzXyhoFEglp9CCMMbP5l32d_6N_Bz49ZNn51nACCH7hUYkvWmCCFQFRJ4EWzf-pLtjhtM5bO96ZQLMQ0fSULSPWDPGRRyL095CoO66lKjDaSXBV6GRUHScdj9cCREiSUJ557mUjp8JxBbrP1pZmB1p_enrpFMe64XtY2lIcehxu8hkE4bP2xteL7d1-ASHPLg6MApiJfDB_5dQMQLmki5SlOggj6taN3p29cEAI4tFySUIOtdslgcfgDVihVZGBN6zTWhcv4vFjjEFbm6fX6TPPWf63mUv9p9tp0uUlpbX0_nHZdjXLYUnVGhxOqbHH4Ys-7FjxNoXUxvvfGCXr1XISDA0v64Rlg5xkr17uFNhiXIasGmBjKEoNU6PJXURiEPCcWDZ2rp026SujpsTyC_CYNpZDdHJrw2bdrS4D32wxK6yaEEHSvWBJ_PWdu51KYeB_k=&xkcb=SoAp6_M3G1RzvugH-D0LbzkdCdPP&p=0&fvj=1&vjs=3', 'https://in.indeed.com/pagead/clk?mo=r&ad=-6NYlbfkN0AbBWiNn4U3TqErPbaJt3RaraPXZx3F8NJx3nQOBGYwFUsd-nxMjKvAtUvCbtsdo-6Tjill_Mr4-9Hgjd9lk7-lYrOpV3Hwo1NPQdDEAEyopLrjyvpi_p2_dMe2uhyGxyOT7wAPgwrN-y8GdqW3_sSYE3yTwAiTy6S9FiSWBK5A8ZRt1oX2iOWaoE1ciNQZjmGNgumip7tQSjzLyKqDYk2sysZMY7gYbiv6cacz_XKFdW4HxXNdzBcTfrWr53_kFqaDJ-nRT_3-rC3KdipInTqibVcWR76S3RLqq_WpzekHOEb4zInrZGqDlLG5yehmm5u6yGcrCtqodqeOcKA2Tiphvt9bKCfuaK8lB9Y_3jkVdbsJLZfaVQMX_8X241aKbj_DpVNuICLNGhDZSx8zMat6dGFm4nsijrrWthLy0wNL7U-iHvsu2HPCK9x0poCNMkQN5JuK6HXz0GhcDc-o-VZRRCDxcRdMn4__ixjF1oBmXy8wcbq7bJs2R0dhSvwbem_AFNzLW--WLAjmnCGVZyv9g5gJKTqYrFWu7tTId3mH-5dpFcpmdsrC9dhf9c5PGEGYUneBHouF-S68uLS5t4edSczghgv1onM1CmlMTkL4aJ0yfNN3BZCvgALWQjoMK84=&xkcb=SoCd6_M3G1RzvugH-D0KbzkdCdPP&p=1&fvj=1&vjs=3', 'https://in.indeed.com/pagead/clk?mo=r&ad=-6NYlbfkN0CFSq8f_VUyHBFZks0o_4P38wARhnL91RLnZYMJBy95Kr88agF6mhAA-eL0qVl2wJyIFaGvEdYPSul8ddhpwewJqhsR7IswY81dFCjrutcqRiU6IYq2vqKAMPE0GSrCjpsCj9705UI7I4o9kIglY0WZrs3lx5tABSbwT1gbQAPdn1sfGto_RQAOQ0QIk580PT18kzAov4pRWvPNG28d57lPuRQL-chlk68djPSnJscIiBRj5PpSysje39IuDSV08z7thvRwLY9zIjOAPEuPQtRBL9KkLBvsF1MAYmjsN5h-d9SLRqnNwTY1RuNKBqLYoicfhDa5z9g-I80a-xvs0cfpL8V2Fs6MB4O2gqQ1FcuAeJmNVrKyaxV9u_JygU31Vjl2MmrxGVcgk_v2gf-qov9M5CDY2njbCquk_Pbv1XN-T1zwYXqbvbHnXBvU5TLSpu33tP9IsIcYZ1rMYZa4yQ6amjY9x_MGTwYP1uuZda3aM4kuVMo8WfOvS46PjEhns6q8sCdqgV0n3c2APZoU_I9Ow_4H5An0WG1a8kCoJTJpVbY-rVTar5wTAYP3SUlEw5kKBiNc_v5WYblOzw8BU43XTPcmoexedoRVG1xmohyEm9zRUa9-fSEe&xkcb=SoAA6_M3G1RzvugH-D0JbzkdCdPP&p=2&fvj=1&vjs=3', 'https://in.indeed.com/pagead/clk?mo=r&ad=-6NYlbfkN0COdlCVXik5s_zAqZPzR-Hu6ju3HrViy8VanpkFINJItBHtx-MMn5zXEb92PStoLlj9DIYAMyFmTseCLt6ma_xB2ibHWzy8zTDCBprvVwWOo-QeOBTrhlrUA77ftEO3c7IK5J_gTmu7R3lpdPX0s9ZcqWLfHLpwGZJXNJBtnBVUJ-6QluYjbBn3xeyIPCNo1y8BlA8eq7M7za8_VqQTem0Pxdi-taaJ1PjBWoL98jkfKndhd6-v1ybgr7oooqYSGS41mQG0VDFET_MdUWrI64UrVaiqr_4wXGWqWeqW29qZyFl8qFWSVyBqRrJBEX8aXgFJPzngigDGEkHctE6vmzY6dg0zrEFzjsrxuh1HEivKTwvl5B3WmjwGFzLOp-dT0NpXJf2h-DGX-op5Q5miHkLQCkCqLVQZvY6CRhisEwiIzfXtSWIkE1f6_tAbL3BnyOHeXNcb1_H0AvpP0PAsB3fKgZJXZzef7SUKS81WfiXcD2EvCc2Ez-TQDMqJoIJJgAqENdCduLHAZ7JOAYh8iy1q2AJYPfaBsM-kN_n6r543JHRl8ccS2VGOE4zQlso_44UnKX4orvXdSusblO4TF7SQUmzv_XRdgG4=&xkcb=SoC06_M3G1RzvugH-D0IbzkdCdPP&p=3&fvj=1&vjs=3', 'https://in.indeed.com/pagead/clk?mo=r&ad=-6NYlbfkN0CNzRKNSVgnP-awBOV7yV09ubgc7YHnGd1YfY0_aJP4wc6EJ53ARwu0Z7qJhhSoa7EO0ZW4scDI1dDqSThhOdhVeObC5hLHRzNbAAfOgHsmWDTyitZ0tTtJZQpKzZg7jvVzGoiEiuV_t15nR0rk4jMIlUb6NXElyWzFCDNQ4gg2kLIq-YmHg13gBiwh5N7DM4dZaKgbdk7FjB3p7kg29rH93lkfCdzXQisYdMtR6YpqY1GyMxyYd0cqRfMHrxoMX1gsltlRt0PP_oanDAm3JWPzwXBQb9Ugeehj2oxmi1SCWnYngg-vyxoACdvChQ9nwEon5OzVGaot8K3wFGxx4QoIw7u0L8X_mlfKmcpLcqL0rdhtKxcDGoAP5uoPAAmLcUIV33m-0IMcoG_JnuFmRH3_tcbmw045a-3P8KPEQQC6p7PThzd81iq7HPCD4GNBDD_iVCa3O27-YQKxHmwgnmWc8AXgLxaqLZZxTg9NkBF5bQSsZ5UKBa-UHzJ-oKu17LJQuKbCEysW5C64nn1Nty5OPj9bSOm-ZkozHVsJ0hp06PNh8VQJI4FDSKi2KPgPvmP4AtkhA2n_H7Rs4WiKjhYr7Bdf6NU4wSIO2ncdwYEOnPK4UGQf13WTsOF0lq1fXH596NClbNcKyNZBjPkYMbXq9N8uhjizZBznhDQJqyMUkA==&xkcb=SoA66_M3G1RzvugH-D0PbzkdCdPP&p=4&fvj=0&vjs=3', 'https://in.indeed.com/pagead/clk?mo=r&ad=-6NYlbfkN0C3j_zLGvpMLCdiZ0WC46XqVTA1VMZzOzKXPhAXwYlrNR2M821dYWEuCwYREswJhDFHFw6G-HRorbpl3LpPK1iNpsrrIgd8ZzX4RAPoWY-un-9rKi269EIWspW-tOiIyR5P2Gnc6Q8C4p-T6xU1Bp4nH0Y_Xozv3slakpK48kZHsPdus6nsy6Js4jSedogG3sDtfojpOztPM1XAXNjeeZ4K9jr7g2ipg_xDPBY7INb9J74uI5naCAK5_2Va4_KYnTO9n6dKarBaUAhus-jorABRi5tDlNdGFnNQk9ujm4kDA6jauW-CkeD0k1A2jOMSI5-rwYeOaABayoe0Nk1iSwIVEG5of-ah5mDfiUHf4TUoKbWhd4cvsZryDjLX2VVdq8_I7R6_EtYCdFCSQf-UpNRtXqRaF4XNJ7je1bTGstdYKmRTrs2beZiYfCuhLoITggmDGtMH3OlDT5pY3zIsaFLn-1JWo2RXAkugphV4eE-jYzBUgYz0rB6TKbIJ4VrnnxZiBFDh89IuP0lc2FlTzNXFKuzeKUCzLsSXueHlZVFbmViaw0SxhZzdBvo4xee61hS4H48H3lTjN8B6YqcXctu8eoehovmA6qoCBLtKgIYwYQ-Uk6sUooQqmigrbF5mGRjb4AfgPsDJlxXhSXypmPPPcSisrLE3EGHve2GqW8eVH7H15ymCUaa_RjRcEqLA8dGSkHH-b7NcI24zeDLy41vgNL2IcOQ3XRxdX0eTYUnve2Ze5IEq70RzTuQWjB8sD5ZIBy3ZZnXT7xzSS8e2ulDLppxYNETOVQc=&xkcb=SoCO6_M3G1RzvugH-D0ObzkdCdPP&p=5&fvj=0&vjs=3', 'https://in.indeed.com/rc/clk?jk=922a01bc2221f840&bb=H5nchpVtaOik8RHQPVToRQAzkVLk8gjDOP7C5AOT5CAyA2rhV1i4F-8tMnYDgA8m&xkcb=SoDe67M3G1Rzs6Ripx0LbzkdCdPP&fccid=146443e77d8c0778&vjs=3', 'https://in.indeed.com/rc/clk?jk=4cb34b94a75d6a9b&bb=H5nchpVtaOiiD26-EnmZlR2PdH-0Uyf_e-M8aSMCnjHcW-G0mQdKUQXSr0wqao5s&xkcb=SoDN67M3G1Rzs6Ripx0PbzkdCdPP&fccid=0e7e89826eb84cd6&cmp=Majesty-Techsol&ti=Python+Developer&vjs=3', 'https://in.indeed.com/rc/clk?jk=5bd70e451270cf4b&bb=5mrcprcFgn0kaSRyBySp2E7j2rrU_IcRNHY5TJjdW_Mu_DIY5A4T2o-pxdTJxvmp&xkcb=SoAv67M3G1Rzs6xipx0KbzkdCdPP&fccid=1fd1b58af3c51aba&cmp=Vaanee-AI&ti=Python+Developer&vjs=3', 'https://in.indeed.com/rc/clk?jk=949d3f417668da20&bb=bXI0idwTTFEGnScWCskGGXZckqulVXDz0ZVfH1ELezQCLnC8QqizQNNiYnNqy28M&xkcb=SoDd67M3G1RzslRipx0LbzkdCdPP&fccid=58c732f14833248a&vjs=3', 'https://in.indeed.com/rc/clk?jk=880be1ab2abdb9bc&bb=bXI0idwTTFEMzZm38nVcF5buPb00iQQk62PQOefLFifbaw9P7yiChqiDrkjfbPAZ&xkcb=SoDO67M3G1RzslRipx0PbzkdCdPP&fccid=9f0f5cd9e74d8f4e&cmp=Miles-Ahead-91-Consultants&ti=Python+Developer&vjs=3', 'https://in.indeed.com/rc/clk?jk=5a61fdba828e98d8&bb=F9VPMVboryoH3h9XtqrJCkMp0bglbAmYIvoIXiq533NWmAq8TeBFJ5D7hlGKhgiV&xkcb=SoCY67M3G1Rzslxipx0LbzkdCdPP&fccid=0e2f08d304beb5b1&cmp=Uplers&ti=Back+End+Developer&vjs=3', 'https://in.indeed.com/rc/clk?jk=842eac34ce8e1756&bb=F9VPMVboryr40WAJ3d70B7YWn-3fV7Xn1SYGVPWEcGA4XeXPHRMAvCWA7hZiI479&xkcb=SoCL67M3G1Rzslxipx0PbzkdCdPP&fccid=0098b51334dc7c7a&cmp=iXceed-Solutions&ti=Python+Developer&vjs=3', 'https://in.indeed.com/pagead/clk?mo=r&ad=-6NYlbfkN0CNzRKNSVgnP-awBOV7yV09ubgc7YHnGd1YfY0_aJP4wc6EJ53ARwu0Z7qJhhSoa7HMCcr0_6cDUYBN4W5YAH-z0mijqQFia7H3-COhgvY9CQ7vhKUq6V1vrGlEfmLxajC8UJIm0i8s3UR6fR5wd6oCzI4vX9mVoqfve5_CdnoXO9NbPNX0cJejkGG9mk3dWr8tNn6qR_tjN2RD8YG4el6wBqkGB5lBEbcmv2CD3K9A3P7CkDUfFEbVQwAQ5dwu7Q6tp0EvFQZtjGPgSBLaKwtQqNp_Y6FYIC7Q7fAEYj-R36CZyk4_DfkRLeHzkIxUHOq2w0ywL9RmecYyaoTZP6LuIpQ72Z-dq32lctt4a3Q2biapxaSnl7D0dbLaRsAkG1dDR3inM1UCdwLDuYkyg5O2Gd5OXEBdPN66GGMEVk71UoUrlN_P_UkovJbBbfe2YjKF0gG4f83HABRIsOdtPoBe3zuJAjSMy6YEGZ2-6D_wF4kthU9BgcT-8iW989kqQM_Ody2_lIQP8XaDKSbMvPMLvFebaFRdGfAoBktFgPlwahwBJSjCKlVinEZCzalFqC8OVPqoWuoDFQvOCp7ghRsdOtozmDR5XagFWFmoBGbsB8q39pMSBxQCh10NXU2PEgCC0JqiOp0DNIgbVW2oilbpmg6vSoVrtjxZKICkvh66ifb8dW4nu6o3&xkcb=SoDp6_M3G1RzvugH-D0GbzkdCdPP&p=13&fvj=0&vjs=3', 'https://in.indeed.com/rc/clk?jk=d13818693b3baec4&bb=iTf5QKL86ff14f5ZbuhuUCcKMrjY6HVWFgN5kmf83klwSTLLVebGkWrIfGx2jKO8&xkcb=SoCL67M3G1RzskRipx0IbzkdCdPP&fccid=889d7b80bef81e64&cmp=Book2save-Pvt.-Ltd.&ti=Python+Developer&vjs=3', 'https://in.indeed.com/pagead/clk?mo=r&ad=-6NYlbfkN0BdkRqoRBllJ3ABBfj5Fwuh4mkM_IbFmVz4qW6oqmasiKwSJy7uXCuCnXnUyLvXm10yTe9BLdEoNGdyosK9BGtOFYwqQ-mLZ89v9g9f4qjujqcAhRsJUlwUYOmf3WinzxT3dn_cYgCKgP_0Jj2ylNcixGmWKl2wzXyhoFEglp9CCMMbP5l32d_6BJ1rTcVxwe-uiU46ab-Pzl-V3fYLWy-BRTip78ERCvXCDucPtAvkfOY5Fwx02AxXq22P_DlYtYw5t0HZ5h67jdyytLtrXcaCr7DHoX96iPgbvU5sSbKQ2OARJ0rS_IxG0aGnvHe632W-2falACFImwQBMYPXMpPBB-zk-PcxWMu858CUblA0ssZL9al2rYHG7xwne2Qf_pYMenk5AUQqT-55kLFjYvjpM4wl0PmgxSDgj_g3uUfwqSzJ-BepSIYdmvwKHAMIJzDJtKh7Gi5q9D1e47MY-vsRuzyDKBmF2WPjqu7k9QEW_GKVRzXRiFeagPrevdXcCD8XfxmbtZffSLkNbg1lYOUMny60mJvvfpUruOWHRFUVmA5YqTq8j4KMy1mbH1GzdVL30CjEwtW6zZ_q-jrjZqdiRr8kQk9mMptZ6UcKgCoHdw==&xkcb=SoAz6_M3G1RynCwHhB0IbzkdCdPP&p=0&fvj=1&vjs=3', 'https://in.indeed.com/pagead/clk?mo=r&ad=-6NYlbfkN0AbBWiNn4U3TqErPbaJt3RaraPXZx3F8NJx3nQOBGYwFUsd-nxMjKvAtUvCbtsdo-6Tjill_Mr4-9Hgjd9lk7-lYrOpV3Hwo1NPQdDEAEyopLrjyvpi_p2_dMe2uhyGxyOT7wAPgwrN-y8GdqW3_sSYE3yTwAiTy6S9FiSWBK5A8ZRt1oX2iOWaKNnVOusweHL1ZxVah7OUP0p37Z0PjA4QTnOV19NtBikdaT1NLz6NAFoVDelD8im85Wdf2bMp1V6JGs7p3SqIpnl-UiXnzoPB8G4xMLIfFlOn1ANQWOpWb6oQJrxUD3UOFNCur1CUQOr9jj_8Phg-Wa3FZSNuKo-qz2EQOL_2yVHQ8-207IKD-kat4yYvKPio5tSAMVfJ-oLaCjCLReVkAP7kvy-jWY4jbwRZPoEQSP7ikBH8gkp1q253P24xKwBYRlT-5r35yCvlTFzElyhjvycM904VZDrRSaijsbHrY2swHBd7iYtKn9ECy5IK2whrQi4rvJoN0iNwnorPI8pm8ZFfJu3sAjpnVJXupFc8LsdvDA-4WWQc7T7Bg-DVzxBj_fOZXPxXF-aLVDr7ifErusCjaHgrQpEMjkj8dTiJN15TDuiksb2-fBRtVRfNgnfs6yYciS63ZpQ=&xkcb=SoC96_M3G1RynCwHhB0PbzkdCdPP&p=1&fvj=1&vjs=3', 'https://in.indeed.com/pagead/clk?mo=r&ad=-6NYlbfkN0CFSq8f_VUyHBFZks0o_4P38wARhnL91RLnZYMJBy95Kr88agF6mhAA-eL0qVl2wJyIFaGvEdYPSul8ddhpwewJqhsR7IswY81dFCjrutcqRiU6IYq2vqKAMPE0GSrCjpsCj9705UI7I4o9kIglY0WZrs3lx5tABSbwT1gbQAPdn1sfGto_RQAOwDlHcZ51Uo6sLrChbB9ULfoY7521skzCcSzC-EpGFCVWZM2uAcKadVAxYqRdXHKbe8qoASq0DYzaYYyGniLD5bsRlTrdqrR7DBouvFGEGEqbSevBGyp1_2P49MI_MnVIqFlvc3PxkjCViBmUvm5B9fR0oAL61QutjIYE2zx6b_7QPRRQoXW9NZxZ3u68QiweEIReZzz5C9Kp6WKbl1bkgIiHzoYh2N1ANzDYpf5cU2UnBOi70QkNm6N3AVxYFJgyU2fEtf5-LlE_irFI6ZR6xjqUuvETwQQ-lzx35QK8SDakaunzBUtfb07oqyPHoTQYv0BrKTDQJX-Cs2OIfy3tw6UEkaESzCPpt0nw4em4GvcRboTUZk9wgXFUyFLOCxVymlTPxUpQt4n_HrT0mn7wcUySiUrDjOELD5NXfo9jRL9pCRvkg7kyGVteP2Z8JLOc&xkcb=SoAJ6_M3G1RynCwHhB0ObzkdCdPP&p=2&fvj=1&vjs=3', 'https://in.indeed.com/pagead/clk?mo=r&ad=-6NYlbfkN0COdlCVXik5s_zAqZPzR-Hu6ju3HrViy8VanpkFINJItBHtx-MMn5zXEb92PStoLlj9DIYAMyFmTseCLt6ma_xB2ibHWzy8zTDCBprvVwWOo-QeOBTrhlrUA77ftEO3c7IK5J_gTmu7R3lpdPX0s9ZcqWLfHLpwGZJXNJBtnBVUJ-6QluYjbBn38Tqo17wIF5X_hKR_ps_08skh3igeJyaRqc4bkfB8bGWsvIUsL1Jvk2CJb1dkZtvqb0PjFgqwq0ox8k2rnWENmk8TObT9Ygcp1zHxaokvRlmuMI5erjMBi_KjSGm2SIQSIpqkN99rUTHxHJl4XeQRjf-US-YxGe98fTn9Bupba0-5ujpyxljlp4nPNYsGZBpxnA-yi2qrSRUuK2aCibhkX3hLosnrtmu2icD2F8LdtEbTWz8qBm1aiUoU5wIRcLQLLPGSqczVEifEpvaifmuiCX-mcCjHr8uEAY6NGYFwRST4-U6k_t4R-T1FbZEd-FdQQirYePB7amnON0RkvXaLPT_YU3paAKagvtFKNNwelS1yRk2LnHe0RuKKjuFnB8wV5oKJjCApVMGQ-39GrVyTe5rzmRm2gTD-Vg1hxYQa2xs=&xkcb=SoCU6_M3G1RynCwHhB0NbzkdCdPP&p=3&fvj=1&vjs=3', 'https://in.indeed.com/pagead/clk?mo=r&ad=-6NYlbfkN0CNzRKNSVgnP-awBOV7yV09ubgc7YHnGd1YfY0_aJP4wc6EJ53ARwu0Z7qJhhSoa7EO0ZW4scDI1dDqSThhOdhVeObC5hLHRzNbAAfOgHsmWDTyitZ0tTtJZQpKzZg7jvVzGoiEiuV_t15nR0rk4jMIlUb6NXElyWzFCDNQ4gg2kIZ4hS5fV_ySxOND2qhRrO_erj0NVtEQ6-k6Oshap_bVtHVRkVIfvX23VRW70twb4r2O6KU5E2Sfh8oObLsBcKe0JoPSfslGD6asuJCLdBSh3wlQFmqSX51Uzj4FViQBnfTTS2dG3m4rsN_se0jG_U9SWfPcdk6mjXACsOWBdpanUlvZMHb6MbOlHVUlDmzxLG3tB2QSFsVfILOZmvtFPpT1-6kxv823GFhvkGWBqtgDhlfHFM_w1EpYl-IJRAKCIrFPttZy3xOfQXADV8jcKhpYex3oOXztL7vtJUk2qbBEUuVifgAnl1LuoavGHyBtbRTpDQfrty2dH6qd-1qw0i9bVXus_HZbBLsabmGtcFg5Ih3qvJqMidq_94lugZvvjLwmGZryDJXDsheJGzZC7nBZMt4lMTH7ARsEZqDNV_dESVQjhjiyVNDR1NFK9YRmEQ8EQC_-z9UJqbKq-m_PVi-IrtPVWIz23nj6C1TnhM3ZqC6p64d7K3EmFHvfqz6Oog==&xkcb=SoAg6_M3G1RynCwHhB0MbzkdCdPP&p=4&fvj=0&vjs=3', 'https://in.indeed.com/pagead/clk?mo=r&ad=-6NYlbfkN0C3j_zLGvpMLCdiZ0WC46XqVTA1VMZzOzKXPhAXwYlrNR2M821dYWEuCwYREswJhDFHFw6G-HRorbpl3LpPK1iNpsrrIgd8ZzX4RAPoWY-un-9rKi269EIWspW-tOiIyR5P2Gnc6Q8C4p-T6xU1Bp4nH0Y_Xozv3slakpK48kZHsPdus6nsy6Js4jSedogG3sDtfojpOztPM1XAXNjeeZ4K9jr7g2ipg_xDPBY7INb9J74uI5naCAK5_2Va4_KYnTO9n6dKarBaUAhus-jorABRi5tDlNdGFnNQk9ujm4kDA6jauW-CkeD0k1A2jOMSI5-rwYeOaABayoe0Nk1iSwIVEG5of-ah5mDfiUHf4TUoKbWhd4cvsZryDjLX2VVdq89jna5W4EdhVy6UwkxuQBAbgVij3KEVw7xzBHwmjPRDpWrbKZPK-eYoyWSfcY8A710FHHKC62OeFOKQuRVM8NyzzAPGwtJwZhaV-6O9y6Na5xPykKMaBt77z8iAfsj7CFSdL9GyvXwoKWCjBRH9WCG1z6s_CmZ3DoSySBi041wMgu09OU9EECxwQatooAlLb3GF4fCMFQloxDosRPoq2O22A_lpI8uCcUKPhOczKC-pSR5CEjx2syPE3G2LMoEgXit4GvHHJSvE2G_NQL7Typ7HOVmTSq7zsjuDqEbjzNM-iHoDlP0l2vodJhmT-7cMKHc3evHO0z5cR77a9jnJqMt2bVbjy_TIn0dsT5Wtzryz1tRUHQ9Ky272TV6-98j9s409m9cxBsxtFaOhRiiJjJLo2iElCCivzAY=&xkcb=SoDJ6_M3G1RynCwHhB0DbzkdCdPP&p=5&fvj=0&vjs=3', 'https://in.indeed.com/rc/clk?jk=5bd70e451270cf4b&bb=_QwKBBfN-o-6fxkBRg2FBfDMJjSPKGiiUcJ_D15UnPNElGpgk55QJRBwS8Wnlp6Z&xkcb=SoBy67M3G1RykeQHop0LbzkdCdPP&fccid=1fd1b58af3c51aba&cmp=Vaanee-AI&ti=Python+Developer&vjs=3', 'https://in.indeed.com/rc/clk?jk=5a61fdba828e98d8&bb=XJEtmPDw5NmNiIrAtaqceWqGZSQGvQxLzIbT9j275fSpxT82eeLLHcAHVT_araBE&xkcb=SoA367M3G1RykewHop0LbzkdCdPP&fccid=0e2f08d304beb5b1&cmp=Uplers&ti=Back+End+Developer&vjs=3', 'https://in.indeed.com/rc/clk?jk=4cb34b94a75d6a9b&bb=XJEtmPDw5NlnZpP5r0cX_OrBLvr0WgK9-HEeptIcv0kQEKCtAHMrhfgcpQ1m8dwL&xkcb=SoCq67M3G1RykewHop0IbzkdCdPP&fccid=0e7e89826eb84cd6&cmp=Majesty-Techsol&ti=Python+Developer&vjs=3', 'https://in.indeed.com/rc/clk?jk=d13818693b3baec4&bb=Vk2zCU9xD66nNxWPG_HNhsN2QLIBszq5SKg0vrbEblGvAfgYwna1du7j3v--ZLAP&xkcb=SoA167M3G1RykZQHop0KbzkdCdPP&fccid=889d7b80bef81e64&cmp=Book2save-Pvt.-Ltd.&ti=Python+Developer&vjs=3', 'https://in.indeed.com/rc/clk?jk=922a01bc2221f840&bb=Vk2zCU9xD672jJ8fWCqkSsID5H06CKSYqdIt91t0PVDi_r8Tuq_YCuFpDtc_FYzt&xkcb=SoAc67M3G1RykZQHop0IbzkdCdPP&fccid=146443e77d8c0778&vjs=3', 'https://in.indeed.com/rc/clk?jk=880be1ab2abdb9bc&bb=Y4asDkvbP3-htx3zzpmHJb8YEK54cUodPyBNRCu4-dwaEytTjVVVIX3Ku5SBarvG&xkcb=SoBw67M3G1RykZwHop0KbzkdCdPP&fccid=9f0f5cd9e74d8f4e&cmp=Miles-Ahead-91-Consultants&ti=Python+Developer&vjs=3', 'https://in.indeed.com/rc/clk?jk=949d3f417668da20&bb=tnEvssvhGX__TRw85cK0VNWwd-nHCMdmILe8p3v94Xf7iTyl-sBviS47aJLsq6gr&xkcb=SoD-67M3G1RykYQHop0KbzkdCdPP&fccid=58c732f14833248a&vjs=3', 'https://in.indeed.com/pagead/clk?mo=r&ad=-6NYlbfkN0CNzRKNSVgnP-awBOV7yV09ubgc7YHnGd1YfY0_aJP4wc6EJ53ARwu0Z7qJhhSoa7HMCcr0_6cDUYBN4W5YAH-z0mijqQFia7H3-COhgvY9CQ7vhKUq6V1vrGlEfmLxajC8UJIm0i8s3UR6fR5wd6oCzI4vX9mVoqfve5_CdnoXO79Cschk35mw7VVvjZGhRivAUsiZ_YluuoBSgKz5ykyYvuAk23okbpyPswFj190goXxIP0NZofZTf4FUYMJzBKSajUPoY94x-uPfku8yYViB83ybXROR3b6jgrHSn_-A4R6BP1q28myceT3zcDrfyutADTklgPSNpma5wlWRIQvj_7aZcrMfmg4PiHlRTHoHGPLfd5FuH5i-BG0LYaY2EFrZkaZfXLG9ytInQQiNso6Q7DNp5sQSEZ3r0omDdAX3_VqSaTiUkzJeAGucHvlREYAKjL6NVygULF5xgzL2E4v3OL0EDX-LVOmI1BKlS-_8aWdQ6UXT3P8sQSsehoU0ozf-5QnN8ChPdas76H6mlocTWd9TNodMWRjdTSBPxhKe1pJN_QDTXOCyrPTVnUcGXbp80NrNHnNqdzLNY8ZK5VKB7nnflv4QgDcmVq7iskOxrQr3noogUxLs1AOPfNdUWRyfG_chtsA495muVAND18cXKor8dMZ9p5K4L7qW_26lcIdtM4db52bL&xkcb=SoBg6_M3G1RynCwHhB0bbzkdCdPP&p=13&fvj=0&vjs=3', 'https://in.indeed.com/rc/clk?jk=fd7e93982d20c870&bb=NUPsdSUkDVKBeCStXLDcLeQh3991rhss_EtV_aSGUhfDqui35yPC5Bw6hQoWrQ6H&xkcb=SoAP67M3G1RykYwHop0LbzkdCdPP&fccid=59ced4ad96088dfb&cmp=Potenz-Technology&ti=Python+Developer&vjs=3']\n",
      "['Indeed\\nHyderabad, Telangana', 'Think Huge Ltd\\nRemote', 'Intelligent Outsourcing\\nMohali, Punjab', 'Emergio Games Pvt Ltd\\nErnakulam, Kerala', 'Cencora\\nPune, Maharashtra', 'Capital One\\nBengaluru, Karnataka', 'Virtusa\\nHybrid remote in Bengaluru, Karnataka', 'Majesty Techsol\\nRemote', 'Vaanee AI\\nDelhi, Delhi', 'BlackRock\\nHybrid remote in Gurgaon, Gurugram, Haryana', 'Miles Ahead 91 Consultants\\nRemote', 'Uplers\\nRemote', 'iXceed Solutions\\nGurgaon, Haryana', 'Cencora\\nPune, Maharashtra', 'Book2save Pvt. Ltd.\\nNew Delhi, Delhi', 'Indeed\\nHyderabad, Telangana', '', '', '', '', '', '', '', '', '', '', '', '', '', '', 'Indeed\\nHyderabad, Telangana', 'Think Huge Ltd\\nRemote', 'Intelligent Outsourcing\\nMohali, Punjab', 'Emergio Games Pvt Ltd\\nErnakulam, Kerala', 'Cencora\\nPune, Maharashtra', 'Capital One\\nBengaluru, Karnataka', 'Virtusa\\nHybrid remote in Bengaluru, Karnataka', 'Majesty Techsol\\nRemote', 'Vaanee AI\\nDelhi, Delhi', 'BlackRock\\nHybrid remote in Gurgaon, Gurugram, Haryana', 'Miles Ahead 91 Consultants\\nRemote', 'Uplers\\nRemote', 'iXceed Solutions\\nGurgaon, Haryana', 'Cencora\\nPune, Maharashtra', 'Book2save Pvt. Ltd.\\nNew Delhi, Delhi', 'Indeed\\nHyderabad, Telangana', 'Think Huge Ltd\\nRemote', 'Intelligent Outsourcing\\nMohali, Punjab', 'Emergio Games Pvt Ltd\\nErnakulam, Kerala', 'Cencora\\nPune, Maharashtra', 'Capital One\\nBengaluru, Karnataka', 'Virtusa\\nHybrid remote in Bengaluru, Karnataka', 'Majesty Techsol\\nRemote', 'Vaanee AI\\nDelhi, Delhi', 'BlackRock\\nHybrid remote in Gurgaon, Gurugram, Haryana', 'Miles Ahead 91 Consultants\\nRemote', 'Uplers\\nRemote', 'iXceed Solutions\\nGurgaon, Haryana', 'Cencora\\nPune, Maharashtra', 'Book2save Pvt. Ltd.\\nNew Delhi, Delhi', 'Indeed\\nHyderabad, Telangana', 'Think Huge Ltd\\nRemote', 'Intelligent Outsourcing\\nMohali, Punjab', 'Emergio Games Pvt Ltd\\nErnakulam, Kerala', 'Cencora\\nPune, Maharashtra', 'Capital One\\nBengaluru, Karnataka', 'Vaanee AI\\nDelhi, Delhi', 'Uplers\\nRemote', 'Majesty Techsol\\nRemote', 'Book2save Pvt. Ltd.\\nNew Delhi, Delhi', 'Virtusa\\nHybrid remote in Bengaluru, Karnataka', 'Miles Ahead 91 Consultants\\nRemote', 'BlackRock\\nHybrid remote in Gurgaon, Gurugram, Haryana', 'Cencora\\nPune, Maharashtra', 'Potenz Technology\\nBodakdev, Ahmedabad, Gujarat']\n",
      "['₹53,60,000 - ₹80,40,000 a year', None, '₹25,000 - ₹50,000 a month', '₹10,000 - ₹20,000 a month', None, None, None, '₹30,00,000 - ₹35,00,000 a year', '₹3,70,812.47 - ₹13,63,182.25 a year', None, '₹45,000 - ₹65,000 a month', '₹2,05,902 a month', '₹20,00,000 - ₹30,00,000 a year', None, '₹30,000 - ₹60,000 a month', '₹53,60,000 - ₹80,40,000 a year', None, '', '', None, None, None, '', '', None, '', '', '', None, '', '₹53,60,000 - ₹80,40,000 a year', None, '₹25,000 - ₹50,000 a month', '₹10,000 - ₹20,000 a month', None, None, None, '₹30,00,000 - ₹35,00,000 a year', '₹3,70,812.47 - ₹13,63,182.25 a year', None, '₹45,000 - ₹65,000 a month', '₹2,05,902 a month', '₹20,00,000 - ₹30,00,000 a year', None, '₹30,000 - ₹60,000 a month', '₹53,60,000 - ₹80,40,000 a year', None, '₹25,000 - ₹50,000 a month', '₹10,000 - ₹20,000 a month', None, None, None, '₹30,00,000 - ₹35,00,000 a year', '₹3,70,812.47 - ₹13,63,182.25 a year', None, '₹45,000 - ₹65,000 a month', '₹2,05,902 a month', '₹20,00,000 - ₹30,00,000 a year', None, '₹30,000 - ₹60,000 a month', '₹53,60,000 - ₹80,40,000 a year', None, '₹25,000 - ₹50,000 a month', '₹10,000 - ₹20,000 a month', None, None, '₹3,70,812.47 - ₹13,63,182.25 a year', '₹2,05,902 a month', '₹30,00,000 - ₹35,00,000 a year', '₹30,000 - ₹60,000 a month', None, '₹45,000 - ₹65,000 a month', None, None, '₹5,000 a month']\n",
      "75\n",
      "75\n",
      "75\n",
      "75\n",
      "75\n"
     ]
    }
   ],
   "source": [
    "print(job_lst[0:4])\n",
    "print(salary_list[0:4])\n",
    "\n",
    "first_elements = [sublist[0] for sublist in job_lst]\n",
    "second_elements = [sublist[1] for sublist in job_lst]\n",
    "fourth_elements = [sublist[3] for sublist in job_lst]\n",
    "\n",
    "print(first_elements)\n",
    "print(second_elements)\n",
    "print(fourth_elements)\n",
    "print(salary_list)\n",
    "\n",
    "list_count1 = len(job_lst)\n",
    "list_count2= len(salary_list)\n",
    "list_count3 = len(first_elements)\n",
    "list_count4 = len(second_elements)\n",
    "list_count5 = len(fourth_elements)\n",
    "\n",
    "print(list_count1)\n",
    "print(list_count2)\n",
    "print(list_count3)\n",
    "print(list_count4)\n",
    "print(list_count5)"
   ]
  },
  {
   "cell_type": "code",
   "execution_count": 221,
   "metadata": {},
   "outputs": [],
   "source": [
    "client = MongoClient('mongodb://localhost:27017/')\n",
    "database = client['IndeedJobListing']\n",
    "collection = database['Namaste']"
   ]
  },
  {
   "cell_type": "code",
   "execution_count": 222,
   "metadata": {},
   "outputs": [
    {
     "data": {
      "text/plain": [
       "InsertManyResult([ObjectId('659c5ffdbc60f96322df0d08'), ObjectId('659c5ffdbc60f96322df0d09'), ObjectId('659c5ffdbc60f96322df0d0a'), ObjectId('659c5ffdbc60f96322df0d0b'), ObjectId('659c5ffdbc60f96322df0d0c'), ObjectId('659c5ffdbc60f96322df0d0d'), ObjectId('659c5ffdbc60f96322df0d0e'), ObjectId('659c5ffdbc60f96322df0d0f'), ObjectId('659c5ffdbc60f96322df0d10'), ObjectId('659c5ffdbc60f96322df0d11'), ObjectId('659c5ffdbc60f96322df0d12'), ObjectId('659c5ffdbc60f96322df0d13'), ObjectId('659c5ffdbc60f96322df0d14'), ObjectId('659c5ffdbc60f96322df0d15'), ObjectId('659c5ffdbc60f96322df0d16'), ObjectId('659c5ffdbc60f96322df0d17'), ObjectId('659c5ffdbc60f96322df0d18'), ObjectId('659c5ffdbc60f96322df0d19'), ObjectId('659c5ffdbc60f96322df0d1a'), ObjectId('659c5ffdbc60f96322df0d1b'), ObjectId('659c5ffdbc60f96322df0d1c'), ObjectId('659c5ffdbc60f96322df0d1d'), ObjectId('659c5ffdbc60f96322df0d1e'), ObjectId('659c5ffdbc60f96322df0d1f'), ObjectId('659c5ffdbc60f96322df0d20'), ObjectId('659c5ffdbc60f96322df0d21'), ObjectId('659c5ffdbc60f96322df0d22'), ObjectId('659c5ffdbc60f96322df0d23'), ObjectId('659c5ffdbc60f96322df0d24'), ObjectId('659c5ffdbc60f96322df0d25'), ObjectId('659c5ffdbc60f96322df0d26'), ObjectId('659c5ffdbc60f96322df0d27'), ObjectId('659c5ffdbc60f96322df0d28'), ObjectId('659c5ffdbc60f96322df0d29'), ObjectId('659c5ffdbc60f96322df0d2a'), ObjectId('659c5ffdbc60f96322df0d2b'), ObjectId('659c5ffdbc60f96322df0d2c'), ObjectId('659c5ffdbc60f96322df0d2d'), ObjectId('659c5ffdbc60f96322df0d2e'), ObjectId('659c5ffdbc60f96322df0d2f'), ObjectId('659c5ffdbc60f96322df0d30'), ObjectId('659c5ffdbc60f96322df0d31'), ObjectId('659c5ffdbc60f96322df0d32'), ObjectId('659c5ffdbc60f96322df0d33'), ObjectId('659c5ffdbc60f96322df0d34'), ObjectId('659c5ffdbc60f96322df0d35'), ObjectId('659c5ffdbc60f96322df0d36'), ObjectId('659c5ffdbc60f96322df0d37'), ObjectId('659c5ffdbc60f96322df0d38'), ObjectId('659c5ffdbc60f96322df0d39'), ObjectId('659c5ffdbc60f96322df0d3a'), ObjectId('659c5ffdbc60f96322df0d3b'), ObjectId('659c5ffdbc60f96322df0d3c'), ObjectId('659c5ffdbc60f96322df0d3d'), ObjectId('659c5ffdbc60f96322df0d3e'), ObjectId('659c5ffdbc60f96322df0d3f'), ObjectId('659c5ffdbc60f96322df0d40'), ObjectId('659c5ffdbc60f96322df0d41'), ObjectId('659c5ffdbc60f96322df0d42'), ObjectId('659c5ffdbc60f96322df0d43'), ObjectId('659c5ffdbc60f96322df0d44'), ObjectId('659c5ffdbc60f96322df0d45'), ObjectId('659c5ffdbc60f96322df0d46'), ObjectId('659c5ffdbc60f96322df0d47'), ObjectId('659c5ffdbc60f96322df0d48'), ObjectId('659c5ffdbc60f96322df0d49'), ObjectId('659c5ffdbc60f96322df0d4a'), ObjectId('659c5ffdbc60f96322df0d4b'), ObjectId('659c5ffdbc60f96322df0d4c'), ObjectId('659c5ffdbc60f96322df0d4d'), ObjectId('659c5ffdbc60f96322df0d4e'), ObjectId('659c5ffdbc60f96322df0d4f'), ObjectId('659c5ffdbc60f96322df0d50'), ObjectId('659c5ffdbc60f96322df0d51'), ObjectId('659c5ffdbc60f96322df0d52')], acknowledged=True)"
      ]
     },
     "execution_count": 222,
     "metadata": {},
     "output_type": "execute_result"
    }
   ],
   "source": [
    "documents = [{\"Job Name\": first, \"Link\": second, \"Salaries\": third, \"Company\": fourth} for first, second, third, fourth in zip(first_elements, second_elements, salary_list, fourth_elements)]\n",
    "\n",
    "# Insert the documents into the collection\n",
    "collection.insert_many(documents)\n",
    "\n",
    "# Close the MongoDB connection\n",
    "# client.close()"
   ]
  },
  {
   "cell_type": "code",
   "execution_count": 226,
   "metadata": {},
   "outputs": [],
   "source": [
    "# pip install djongo"
   ]
  },
  {
   "cell_type": "code",
   "execution_count": 224,
   "metadata": {},
   "outputs": [],
   "source": [
    "# settings.py\n",
    "\n",
    "DATABASES = {\n",
    "    'default': {\n",
    "        'ENGINE': 'djongo',\n",
    "        'ENFORCE_SCHEMA': False,\n",
    "        'NAME': 'YourMongoDBDatabase',  # Replace with your MongoDB database name\n",
    "    }\n",
    "}\n"
   ]
  },
  {
   "cell_type": "code",
   "execution_count": 225,
   "metadata": {},
   "outputs": [
    {
     "ename": "ImproperlyConfigured",
     "evalue": "Requested setting INSTALLED_APPS, but settings are not configured. You must either define the environment variable DJANGO_SETTINGS_MODULE or call settings.configure() before accessing settings.",
     "output_type": "error",
     "traceback": [
      "\u001b[1;31m---------------------------------------------------------------------------\u001b[0m",
      "\u001b[1;31mImproperlyConfigured\u001b[0m                      Traceback (most recent call last)",
      "Cell \u001b[1;32mIn[225], line 5\u001b[0m\n\u001b[0;32m      1\u001b[0m \u001b[38;5;66;03m# models.py\u001b[39;00m\n\u001b[0;32m      3\u001b[0m \u001b[38;5;28;01mfrom\u001b[39;00m \u001b[38;5;21;01mdjango\u001b[39;00m\u001b[38;5;21;01m.\u001b[39;00m\u001b[38;5;21;01mdb\u001b[39;00m \u001b[38;5;28;01mimport\u001b[39;00m models\n\u001b[1;32m----> 5\u001b[0m \u001b[38;5;28;01mclass\u001b[39;00m \u001b[38;5;21;01mJob\u001b[39;00m(models\u001b[38;5;241m.\u001b[39mModel):\n\u001b[0;32m      6\u001b[0m     jobTitle \u001b[38;5;241m=\u001b[39m models\u001b[38;5;241m.\u001b[39mCharField(max_length\u001b[38;5;241m=\u001b[39m\u001b[38;5;241m255\u001b[39m)\n\u001b[0;32m      7\u001b[0m     jobLink \u001b[38;5;241m=\u001b[39m models\u001b[38;5;241m.\u001b[39mURLField()\n",
      "File \u001b[1;32mc:\\Users\\Aviral Tanwar\\AppData\\Local\\Programs\\Python\\Python310\\lib\\site-packages\\django\\db\\models\\base.py:127\u001b[0m, in \u001b[0;36mModelBase.__new__\u001b[1;34m(cls, name, bases, attrs, **kwargs)\u001b[0m\n\u001b[0;32m    124\u001b[0m app_label \u001b[38;5;241m=\u001b[39m \u001b[38;5;28;01mNone\u001b[39;00m\n\u001b[0;32m    126\u001b[0m \u001b[38;5;66;03m# Look for an application configuration to attach the model to.\u001b[39;00m\n\u001b[1;32m--> 127\u001b[0m app_config \u001b[38;5;241m=\u001b[39m \u001b[43mapps\u001b[49m\u001b[38;5;241;43m.\u001b[39;49m\u001b[43mget_containing_app_config\u001b[49m\u001b[43m(\u001b[49m\u001b[43mmodule\u001b[49m\u001b[43m)\u001b[49m\n\u001b[0;32m    129\u001b[0m \u001b[38;5;28;01mif\u001b[39;00m \u001b[38;5;28mgetattr\u001b[39m(meta, \u001b[38;5;124m\"\u001b[39m\u001b[38;5;124mapp_label\u001b[39m\u001b[38;5;124m\"\u001b[39m, \u001b[38;5;28;01mNone\u001b[39;00m) \u001b[38;5;129;01mis\u001b[39;00m \u001b[38;5;28;01mNone\u001b[39;00m:\n\u001b[0;32m    130\u001b[0m     \u001b[38;5;28;01mif\u001b[39;00m app_config \u001b[38;5;129;01mis\u001b[39;00m \u001b[38;5;28;01mNone\u001b[39;00m:\n",
      "File \u001b[1;32mc:\\Users\\Aviral Tanwar\\AppData\\Local\\Programs\\Python\\Python310\\lib\\site-packages\\django\\apps\\registry.py:260\u001b[0m, in \u001b[0;36mApps.get_containing_app_config\u001b[1;34m(self, object_name)\u001b[0m\n\u001b[0;32m    251\u001b[0m \u001b[38;5;28;01mdef\u001b[39;00m \u001b[38;5;21mget_containing_app_config\u001b[39m(\u001b[38;5;28mself\u001b[39m, object_name):\n\u001b[0;32m    252\u001b[0m \u001b[38;5;250m    \u001b[39m\u001b[38;5;124;03m\"\"\"\u001b[39;00m\n\u001b[0;32m    253\u001b[0m \u001b[38;5;124;03m    Look for an app config containing a given object.\u001b[39;00m\n\u001b[0;32m    254\u001b[0m \n\u001b[1;32m   (...)\u001b[0m\n\u001b[0;32m    258\u001b[0m \u001b[38;5;124;03m    Return None if the object isn't in any registered app config.\u001b[39;00m\n\u001b[0;32m    259\u001b[0m \u001b[38;5;124;03m    \"\"\"\u001b[39;00m\n\u001b[1;32m--> 260\u001b[0m     \u001b[38;5;28;43mself\u001b[39;49m\u001b[38;5;241;43m.\u001b[39;49m\u001b[43mcheck_apps_ready\u001b[49m\u001b[43m(\u001b[49m\u001b[43m)\u001b[49m\n\u001b[0;32m    261\u001b[0m     candidates \u001b[38;5;241m=\u001b[39m []\n\u001b[0;32m    262\u001b[0m     \u001b[38;5;28;01mfor\u001b[39;00m app_config \u001b[38;5;129;01min\u001b[39;00m \u001b[38;5;28mself\u001b[39m\u001b[38;5;241m.\u001b[39mapp_configs\u001b[38;5;241m.\u001b[39mvalues():\n",
      "File \u001b[1;32mc:\\Users\\Aviral Tanwar\\AppData\\Local\\Programs\\Python\\Python310\\lib\\site-packages\\django\\apps\\registry.py:137\u001b[0m, in \u001b[0;36mApps.check_apps_ready\u001b[1;34m(self)\u001b[0m\n\u001b[0;32m    132\u001b[0m \u001b[38;5;28;01mfrom\u001b[39;00m \u001b[38;5;21;01mdjango\u001b[39;00m\u001b[38;5;21;01m.\u001b[39;00m\u001b[38;5;21;01mconf\u001b[39;00m \u001b[38;5;28;01mimport\u001b[39;00m settings\n\u001b[0;32m    134\u001b[0m \u001b[38;5;66;03m# If \"not ready\" is due to unconfigured settings, accessing\u001b[39;00m\n\u001b[0;32m    135\u001b[0m \u001b[38;5;66;03m# INSTALLED_APPS raises a more helpful ImproperlyConfigured\u001b[39;00m\n\u001b[0;32m    136\u001b[0m \u001b[38;5;66;03m# exception.\u001b[39;00m\n\u001b[1;32m--> 137\u001b[0m \u001b[43msettings\u001b[49m\u001b[38;5;241;43m.\u001b[39;49m\u001b[43mINSTALLED_APPS\u001b[49m\n\u001b[0;32m    138\u001b[0m \u001b[38;5;28;01mraise\u001b[39;00m AppRegistryNotReady(\u001b[38;5;124m\"\u001b[39m\u001b[38;5;124mApps aren\u001b[39m\u001b[38;5;124m'\u001b[39m\u001b[38;5;124mt loaded yet.\u001b[39m\u001b[38;5;124m\"\u001b[39m)\n",
      "File \u001b[1;32mc:\\Users\\Aviral Tanwar\\AppData\\Local\\Programs\\Python\\Python310\\lib\\site-packages\\django\\conf\\__init__.py:92\u001b[0m, in \u001b[0;36mLazySettings.__getattr__\u001b[1;34m(self, name)\u001b[0m\n\u001b[0;32m     90\u001b[0m \u001b[38;5;250m\u001b[39m\u001b[38;5;124;03m\"\"\"Return the value of a setting and cache it in self.__dict__.\"\"\"\u001b[39;00m\n\u001b[0;32m     91\u001b[0m \u001b[38;5;28;01mif\u001b[39;00m (_wrapped \u001b[38;5;241m:=\u001b[39m \u001b[38;5;28mself\u001b[39m\u001b[38;5;241m.\u001b[39m_wrapped) \u001b[38;5;129;01mis\u001b[39;00m empty:\n\u001b[1;32m---> 92\u001b[0m     \u001b[38;5;28;43mself\u001b[39;49m\u001b[38;5;241;43m.\u001b[39;49m\u001b[43m_setup\u001b[49m\u001b[43m(\u001b[49m\u001b[43mname\u001b[49m\u001b[43m)\u001b[49m\n\u001b[0;32m     93\u001b[0m     _wrapped \u001b[38;5;241m=\u001b[39m \u001b[38;5;28mself\u001b[39m\u001b[38;5;241m.\u001b[39m_wrapped\n\u001b[0;32m     94\u001b[0m val \u001b[38;5;241m=\u001b[39m \u001b[38;5;28mgetattr\u001b[39m(_wrapped, name)\n",
      "File \u001b[1;32mc:\\Users\\Aviral Tanwar\\AppData\\Local\\Programs\\Python\\Python310\\lib\\site-packages\\django\\conf\\__init__.py:72\u001b[0m, in \u001b[0;36mLazySettings._setup\u001b[1;34m(self, name)\u001b[0m\n\u001b[0;32m     70\u001b[0m \u001b[38;5;28;01mif\u001b[39;00m \u001b[38;5;129;01mnot\u001b[39;00m settings_module:\n\u001b[0;32m     71\u001b[0m     desc \u001b[38;5;241m=\u001b[39m (\u001b[38;5;124m\"\u001b[39m\u001b[38;5;124msetting \u001b[39m\u001b[38;5;132;01m%s\u001b[39;00m\u001b[38;5;124m\"\u001b[39m \u001b[38;5;241m%\u001b[39m name) \u001b[38;5;28;01mif\u001b[39;00m name \u001b[38;5;28;01melse\u001b[39;00m \u001b[38;5;124m\"\u001b[39m\u001b[38;5;124msettings\u001b[39m\u001b[38;5;124m\"\u001b[39m\n\u001b[1;32m---> 72\u001b[0m     \u001b[38;5;28;01mraise\u001b[39;00m ImproperlyConfigured(\n\u001b[0;32m     73\u001b[0m         \u001b[38;5;124m\"\u001b[39m\u001b[38;5;124mRequested \u001b[39m\u001b[38;5;132;01m%s\u001b[39;00m\u001b[38;5;124m, but settings are not configured. \u001b[39m\u001b[38;5;124m\"\u001b[39m\n\u001b[0;32m     74\u001b[0m         \u001b[38;5;124m\"\u001b[39m\u001b[38;5;124mYou must either define the environment variable \u001b[39m\u001b[38;5;132;01m%s\u001b[39;00m\u001b[38;5;124m \u001b[39m\u001b[38;5;124m\"\u001b[39m\n\u001b[0;32m     75\u001b[0m         \u001b[38;5;124m\"\u001b[39m\u001b[38;5;124mor call settings.configure() before accessing settings.\u001b[39m\u001b[38;5;124m\"\u001b[39m\n\u001b[0;32m     76\u001b[0m         \u001b[38;5;241m%\u001b[39m (desc, ENVIRONMENT_VARIABLE)\n\u001b[0;32m     77\u001b[0m     )\n\u001b[0;32m     79\u001b[0m \u001b[38;5;28mself\u001b[39m\u001b[38;5;241m.\u001b[39m_wrapped \u001b[38;5;241m=\u001b[39m Settings(settings_module)\n",
      "\u001b[1;31mImproperlyConfigured\u001b[0m: Requested setting INSTALLED_APPS, but settings are not configured. You must either define the environment variable DJANGO_SETTINGS_MODULE or call settings.configure() before accessing settings."
     ]
    }
   ],
   "source": [
    "# models.py\n",
    "\n",
    "from django.db import models\n",
    "\n",
    "class Job(models.Model):\n",
    "    jobTitle = models.CharField(max_length=255)\n",
    "    jobLink = models.URLField()\n",
    "    companyName = models.CharField(max_length=255)\n",
    "    companyLocation = models.CharField(max_length=255)\n",
    "    jobDescription = models.TextField()\n",
    "    salary = models.CharField(max_length=255)\n",
    "    jobMetaData = models.CharField(max_length=255)\n",
    "    jobPosting = models.CharField(max_length=255)\n",
    "    date = models.DateTimeField()\n",
    "\n",
    "    def __str__(self):\n",
    "        return self.jobTitle\n"
   ]
  },
  {
   "cell_type": "code",
   "execution_count": null,
   "metadata": {},
   "outputs": [],
   "source": [
    "# admin.py\n",
    "\n",
    "from django.contrib import admin\n",
    "from .models import Job\n",
    "\n",
    "admin.site.register(Job)\n"
   ]
  },
  {
   "cell_type": "code",
   "execution_count": null,
   "metadata": {},
   "outputs": [],
   "source": [
    "python manage.py makemigrations\n",
    "python manage.py migrate\n"
   ]
  },
  {
   "cell_type": "code",
   "execution_count": null,
   "metadata": {},
   "outputs": [],
   "source": [
    "python manage.py runserver\n"
   ]
  },
  {
   "cell_type": "code",
   "execution_count": null,
   "metadata": {},
   "outputs": [],
   "source": []
  }
 ],
 "metadata": {
  "kernelspec": {
   "display_name": "Python 3",
   "language": "python",
   "name": "python3"
  },
  "language_info": {
   "codemirror_mode": {
    "name": "ipython",
    "version": 3
   },
   "file_extension": ".py",
   "mimetype": "text/x-python",
   "name": "python",
   "nbconvert_exporter": "python",
   "pygments_lexer": "ipython3",
   "version": "3.10.11"
  }
 },
 "nbformat": 4,
 "nbformat_minor": 2
}
